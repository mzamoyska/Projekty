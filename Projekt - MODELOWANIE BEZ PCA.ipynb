{
 "cells": [
  {
   "cell_type": "code",
   "execution_count": 464,
   "metadata": {},
   "outputs": [],
   "source": [
    "import numpy as np \n",
    "import pandas as pd \n",
    "import seaborn as sns\n",
    "\n",
    "import matplotlib.pyplot as plt\n",
    "%matplotlib inline\n",
    "\n",
    "import seaborn as sns\n",
    "\n",
    "plt.rc('font',size=14)\n",
    "sns.set(style='white')\n",
    "sns.set(style='whitegrid',color_codes=True)\n",
    "#To enable plotting graphs in Jupyter notebook\n",
    "\n",
    "from sklearn.preprocessing import LabelEncoder \n",
    "from sklearn.preprocessing import OrdinalEncoder\n",
    "from sklearn.preprocessing import StandardScaler\n",
    "from sklearn.model_selection import train_test_split\n",
    "from sklearn.linear_model import LinearRegression, Ridge, Lasso \n",
    "from sklearn.linear_model import LogisticRegression\n",
    "from sklearn.neighbors import KNeighborsRegressor\n",
    "from sklearn.naive_bayes import GaussianNB\n",
    "from sklearn.tree import DecisionTreeClassifier\n",
    "from sklearn.tree import DecisionTreeRegressor\n",
    "from sklearn import tree\n",
    "from sklearn.ensemble import RandomForestClassifier\n",
    "from sklearn.ensemble import BaggingClassifier\n",
    "from sklearn.ensemble import AdaBoostClassifier\n",
    "from sklearn.ensemble import GradientBoostingClassifier\n",
    "from sklearn.svm import SVC\n",
    "from sklearn.ensemble import BaggingClassifier\n",
    "from sklearn.ensemble import AdaBoostClassifier\n",
    "from sklearn.ensemble import GradientBoostingClassifier\n",
    "from sklearn import preprocessing\n",
    "from sklearn.preprocessing import StandardScaler\n",
    "from sklearn.preprocessing import LabelEncoder\n",
    "from sklearn.preprocessing import OrdinalEncoder\n",
    "\n",
    "from sklearn.model_selection import train_test_split\n",
    "\n",
    "from sklearn.linear_model import LinearRegression, Ridge, Lasso\n",
    "\n",
    "from sklearn.neighbors import KNeighborsRegressor\n",
    "from sklearn.tree import DecisionTreeRegressor\n",
    "from sklearn.ensemble import (RandomForestRegressor, GradientBoostingRegressor,AdaBoostRegressor,BaggingRegressor)\n",
    "from sklearn.svm import SVR\n",
    "from sklearn import metrics\n",
    "from sklearn.ensemble import VotingRegressor\n",
    "\n",
    "from scipy import stats\n",
    "from scipy.stats import zscore\n",
    "from scipy.stats import ttest_1samp\n",
    "from scipy.stats import ttest_ind\n",
    "from scipy.stats import f_oneway\n",
    "from scipy.stats import chi2_contingency\n",
    "\n",
    "from sklearn.metrics import mean_squared_error,mean_absolute_error,r2_score,accuracy_score\n",
    "from sklearn.model_selection import KFold\n",
    "from sklearn.model_selection import cross_val_score\n",
    "from sklearn import preprocessing\n",
    "from sklearn.preprocessing import PolynomialFeatures\n",
    "from sklearn.cluster import KMeans\n",
    "from sklearn.utils import resample\n",
    "\n",
    "from sklearn.metrics import confusion_matrix\n",
    "from sklearn.metrics import classification_report \n",
    "from sklearn.metrics import accuracy_score\n",
    "from sklearn.metrics import roc_curve, precision_recall_curve, auc, roc_auc_score\n",
    "\n",
    "                              \n",
    "from sklearn.decomposition import PCA\n",
    "from sklearn.decomposition import IncrementalPCA   \n",
    "\n",
    "from sklearn.neighbors import KNeighborsClassifier \n",
    "from sklearn.tree import DecisionTreeClassifier\n",
    "from sklearn import metrics\n",
    "from sklearn.ensemble import VotingRegressor\n",
    "from scipy import stats\n",
    "from scipy.stats import zscore\n",
    "from sklearn.metrics import mean_squared_error,mean_absolute_error \n",
    "from sklearn.model_selection import KFold\n",
    "from sklearn.model_selection import cross_val_score\n",
    "from sklearn.model_selection import GridSearchCV\n",
    "from sklearn import preprocessing\n",
    "from sklearn.preprocessing import PolynomialFeatures\n",
    "from sklearn.cluster import KMeans \n",
    "from sklearn.utils import resample"
   ]
  },
  {
   "cell_type": "code",
   "execution_count": 324,
   "metadata": {},
   "outputs": [
    {
     "data": {
      "text/html": [
       "<div>\n",
       "<style scoped>\n",
       "    .dataframe tbody tr th:only-of-type {\n",
       "        vertical-align: middle;\n",
       "    }\n",
       "\n",
       "    .dataframe tbody tr th {\n",
       "        vertical-align: top;\n",
       "    }\n",
       "\n",
       "    .dataframe thead th {\n",
       "        text-align: right;\n",
       "    }\n",
       "</style>\n",
       "<table border=\"1\" class=\"dataframe\">\n",
       "  <thead>\n",
       "    <tr style=\"text-align: right;\">\n",
       "      <th></th>\n",
       "      <th>annual_inc</th>\n",
       "      <th>installment</th>\n",
       "      <th>int_rate</th>\n",
       "      <th>fico_avg</th>\n",
       "      <th>last_fico_avg</th>\n",
       "      <th>loan_amnt</th>\n",
       "      <th>revol_bal</th>\n",
       "      <th>open_acc</th>\n",
       "      <th>total_acc</th>\n",
       "      <th>loan_status</th>\n",
       "    </tr>\n",
       "  </thead>\n",
       "  <tbody>\n",
       "    <tr>\n",
       "      <th>0</th>\n",
       "      <td>24000.0</td>\n",
       "      <td>162.87</td>\n",
       "      <td>10.65</td>\n",
       "      <td>737.0</td>\n",
       "      <td>737.0</td>\n",
       "      <td>5000.0</td>\n",
       "      <td>13648.0</td>\n",
       "      <td>3.0</td>\n",
       "      <td>9.0</td>\n",
       "      <td>1</td>\n",
       "    </tr>\n",
       "    <tr>\n",
       "      <th>1</th>\n",
       "      <td>30000.0</td>\n",
       "      <td>59.83</td>\n",
       "      <td>15.27</td>\n",
       "      <td>742.0</td>\n",
       "      <td>249.5</td>\n",
       "      <td>2500.0</td>\n",
       "      <td>1687.0</td>\n",
       "      <td>3.0</td>\n",
       "      <td>4.0</td>\n",
       "      <td>0</td>\n",
       "    </tr>\n",
       "    <tr>\n",
       "      <th>2</th>\n",
       "      <td>12252.0</td>\n",
       "      <td>84.33</td>\n",
       "      <td>15.96</td>\n",
       "      <td>737.0</td>\n",
       "      <td>737.0</td>\n",
       "      <td>2400.0</td>\n",
       "      <td>2956.0</td>\n",
       "      <td>2.0</td>\n",
       "      <td>10.0</td>\n",
       "      <td>1</td>\n",
       "    </tr>\n",
       "    <tr>\n",
       "      <th>3</th>\n",
       "      <td>49200.0</td>\n",
       "      <td>339.31</td>\n",
       "      <td>13.49</td>\n",
       "      <td>692.0</td>\n",
       "      <td>602.0</td>\n",
       "      <td>10000.0</td>\n",
       "      <td>5598.0</td>\n",
       "      <td>10.0</td>\n",
       "      <td>37.0</td>\n",
       "      <td>1</td>\n",
       "    </tr>\n",
       "    <tr>\n",
       "      <th>4</th>\n",
       "      <td>80000.0</td>\n",
       "      <td>67.79</td>\n",
       "      <td>12.69</td>\n",
       "      <td>697.0</td>\n",
       "      <td>682.0</td>\n",
       "      <td>3000.0</td>\n",
       "      <td>27783.0</td>\n",
       "      <td>15.0</td>\n",
       "      <td>38.0</td>\n",
       "      <td>1</td>\n",
       "    </tr>\n",
       "    <tr>\n",
       "      <th>...</th>\n",
       "      <td>...</td>\n",
       "      <td>...</td>\n",
       "      <td>...</td>\n",
       "      <td>...</td>\n",
       "      <td>...</td>\n",
       "      <td>...</td>\n",
       "      <td>...</td>\n",
       "      <td>...</td>\n",
       "      <td>...</td>\n",
       "      <td>...</td>\n",
       "    </tr>\n",
       "    <tr>\n",
       "      <th>42530</th>\n",
       "      <td>180000.0</td>\n",
       "      <td>113.39</td>\n",
       "      <td>10.28</td>\n",
       "      <td>687.0</td>\n",
       "      <td>817.0</td>\n",
       "      <td>3500.0</td>\n",
       "      <td>0.0</td>\n",
       "      <td>33.0</td>\n",
       "      <td>20.0</td>\n",
       "      <td>1</td>\n",
       "    </tr>\n",
       "    <tr>\n",
       "      <th>42531</th>\n",
       "      <td>12000.0</td>\n",
       "      <td>32.11</td>\n",
       "      <td>9.64</td>\n",
       "      <td>697.0</td>\n",
       "      <td>782.0</td>\n",
       "      <td>1000.0</td>\n",
       "      <td>0.0</td>\n",
       "      <td>33.0</td>\n",
       "      <td>20.0</td>\n",
       "      <td>1</td>\n",
       "    </tr>\n",
       "    <tr>\n",
       "      <th>42532</th>\n",
       "      <td>110000.0</td>\n",
       "      <td>80.69</td>\n",
       "      <td>9.33</td>\n",
       "      <td>712.0</td>\n",
       "      <td>712.0</td>\n",
       "      <td>2525.0</td>\n",
       "      <td>0.0</td>\n",
       "      <td>33.0</td>\n",
       "      <td>20.0</td>\n",
       "      <td>1</td>\n",
       "    </tr>\n",
       "    <tr>\n",
       "      <th>42533</th>\n",
       "      <td>60000.0</td>\n",
       "      <td>204.84</td>\n",
       "      <td>8.38</td>\n",
       "      <td>742.0</td>\n",
       "      <td>722.0</td>\n",
       "      <td>6500.0</td>\n",
       "      <td>0.0</td>\n",
       "      <td>33.0</td>\n",
       "      <td>20.0</td>\n",
       "      <td>1</td>\n",
       "    </tr>\n",
       "    <tr>\n",
       "      <th>42534</th>\n",
       "      <td>70000.0</td>\n",
       "      <td>156.11</td>\n",
       "      <td>7.75</td>\n",
       "      <td>772.0</td>\n",
       "      <td>792.0</td>\n",
       "      <td>5000.0</td>\n",
       "      <td>0.0</td>\n",
       "      <td>33.0</td>\n",
       "      <td>20.0</td>\n",
       "      <td>1</td>\n",
       "    </tr>\n",
       "  </tbody>\n",
       "</table>\n",
       "<p>42535 rows × 10 columns</p>\n",
       "</div>"
      ],
      "text/plain": [
       "       annual_inc  installment  int_rate  fico_avg  last_fico_avg  loan_amnt  \\\n",
       "0         24000.0       162.87     10.65     737.0          737.0     5000.0   \n",
       "1         30000.0        59.83     15.27     742.0          249.5     2500.0   \n",
       "2         12252.0        84.33     15.96     737.0          737.0     2400.0   \n",
       "3         49200.0       339.31     13.49     692.0          602.0    10000.0   \n",
       "4         80000.0        67.79     12.69     697.0          682.0     3000.0   \n",
       "...           ...          ...       ...       ...            ...        ...   \n",
       "42530    180000.0       113.39     10.28     687.0          817.0     3500.0   \n",
       "42531     12000.0        32.11      9.64     697.0          782.0     1000.0   \n",
       "42532    110000.0        80.69      9.33     712.0          712.0     2525.0   \n",
       "42533     60000.0       204.84      8.38     742.0          722.0     6500.0   \n",
       "42534     70000.0       156.11      7.75     772.0          792.0     5000.0   \n",
       "\n",
       "       revol_bal  open_acc  total_acc  loan_status  \n",
       "0        13648.0       3.0        9.0            1  \n",
       "1         1687.0       3.0        4.0            0  \n",
       "2         2956.0       2.0       10.0            1  \n",
       "3         5598.0      10.0       37.0            1  \n",
       "4        27783.0      15.0       38.0            1  \n",
       "...          ...       ...        ...          ...  \n",
       "42530        0.0      33.0       20.0            1  \n",
       "42531        0.0      33.0       20.0            1  \n",
       "42532        0.0      33.0       20.0            1  \n",
       "42533        0.0      33.0       20.0            1  \n",
       "42534        0.0      33.0       20.0            1  \n",
       "\n",
       "[42535 rows x 10 columns]"
      ]
     },
     "execution_count": 324,
     "metadata": {},
     "output_type": "execute_result"
    }
   ],
   "source": [
    "df1 = pd.read_csv('df1.csv') \n",
    "df1.drop('Unnamed: 0', axis=1, inplace=True) \n",
    "df1"
   ]
  },
  {
   "cell_type": "code",
   "execution_count": 325,
   "metadata": {},
   "outputs": [
    {
     "data": {
      "text/html": [
       "<div>\n",
       "<style scoped>\n",
       "    .dataframe tbody tr th:only-of-type {\n",
       "        vertical-align: middle;\n",
       "    }\n",
       "\n",
       "    .dataframe tbody tr th {\n",
       "        vertical-align: top;\n",
       "    }\n",
       "\n",
       "    .dataframe thead th {\n",
       "        text-align: right;\n",
       "    }\n",
       "</style>\n",
       "<table border=\"1\" class=\"dataframe\">\n",
       "  <thead>\n",
       "    <tr style=\"text-align: right;\">\n",
       "      <th></th>\n",
       "      <th>loan_amnt</th>\n",
       "      <th>term</th>\n",
       "      <th>int_rate</th>\n",
       "      <th>installment</th>\n",
       "      <th>sub_grade</th>\n",
       "      <th>emp_length</th>\n",
       "      <th>annual_inc</th>\n",
       "      <th>issue_d</th>\n",
       "      <th>loan_status</th>\n",
       "      <th>dti</th>\n",
       "      <th>...</th>\n",
       "      <th>addr_state_SD</th>\n",
       "      <th>addr_state_TN</th>\n",
       "      <th>addr_state_TX</th>\n",
       "      <th>addr_state_UT</th>\n",
       "      <th>addr_state_VA</th>\n",
       "      <th>addr_state_VT</th>\n",
       "      <th>addr_state_WA</th>\n",
       "      <th>addr_state_WI</th>\n",
       "      <th>addr_state_WV</th>\n",
       "      <th>addr_state_WY</th>\n",
       "    </tr>\n",
       "  </thead>\n",
       "  <tbody>\n",
       "    <tr>\n",
       "      <th>0</th>\n",
       "      <td>5000.0</td>\n",
       "      <td>0.0</td>\n",
       "      <td>10.65</td>\n",
       "      <td>162.87</td>\n",
       "      <td>6.0</td>\n",
       "      <td>10.0</td>\n",
       "      <td>24000.0</td>\n",
       "      <td>2011</td>\n",
       "      <td>1</td>\n",
       "      <td>27.65</td>\n",
       "      <td>...</td>\n",
       "      <td>0</td>\n",
       "      <td>0</td>\n",
       "      <td>0</td>\n",
       "      <td>0</td>\n",
       "      <td>0</td>\n",
       "      <td>0</td>\n",
       "      <td>0</td>\n",
       "      <td>0</td>\n",
       "      <td>0</td>\n",
       "      <td>0</td>\n",
       "    </tr>\n",
       "    <tr>\n",
       "      <th>1</th>\n",
       "      <td>2500.0</td>\n",
       "      <td>1.0</td>\n",
       "      <td>15.27</td>\n",
       "      <td>59.83</td>\n",
       "      <td>13.0</td>\n",
       "      <td>0.0</td>\n",
       "      <td>30000.0</td>\n",
       "      <td>2011</td>\n",
       "      <td>0</td>\n",
       "      <td>1.00</td>\n",
       "      <td>...</td>\n",
       "      <td>0</td>\n",
       "      <td>0</td>\n",
       "      <td>0</td>\n",
       "      <td>0</td>\n",
       "      <td>0</td>\n",
       "      <td>0</td>\n",
       "      <td>0</td>\n",
       "      <td>0</td>\n",
       "      <td>0</td>\n",
       "      <td>0</td>\n",
       "    </tr>\n",
       "    <tr>\n",
       "      <th>2</th>\n",
       "      <td>2400.0</td>\n",
       "      <td>0.0</td>\n",
       "      <td>15.96</td>\n",
       "      <td>84.33</td>\n",
       "      <td>14.0</td>\n",
       "      <td>10.0</td>\n",
       "      <td>12252.0</td>\n",
       "      <td>2011</td>\n",
       "      <td>1</td>\n",
       "      <td>8.72</td>\n",
       "      <td>...</td>\n",
       "      <td>0</td>\n",
       "      <td>0</td>\n",
       "      <td>0</td>\n",
       "      <td>0</td>\n",
       "      <td>0</td>\n",
       "      <td>0</td>\n",
       "      <td>0</td>\n",
       "      <td>0</td>\n",
       "      <td>0</td>\n",
       "      <td>0</td>\n",
       "    </tr>\n",
       "    <tr>\n",
       "      <th>3</th>\n",
       "      <td>10000.0</td>\n",
       "      <td>0.0</td>\n",
       "      <td>13.49</td>\n",
       "      <td>339.31</td>\n",
       "      <td>10.0</td>\n",
       "      <td>10.0</td>\n",
       "      <td>49200.0</td>\n",
       "      <td>2011</td>\n",
       "      <td>1</td>\n",
       "      <td>20.00</td>\n",
       "      <td>...</td>\n",
       "      <td>0</td>\n",
       "      <td>0</td>\n",
       "      <td>0</td>\n",
       "      <td>0</td>\n",
       "      <td>0</td>\n",
       "      <td>0</td>\n",
       "      <td>0</td>\n",
       "      <td>0</td>\n",
       "      <td>0</td>\n",
       "      <td>0</td>\n",
       "    </tr>\n",
       "    <tr>\n",
       "      <th>4</th>\n",
       "      <td>3000.0</td>\n",
       "      <td>1.0</td>\n",
       "      <td>12.69</td>\n",
       "      <td>67.79</td>\n",
       "      <td>9.0</td>\n",
       "      <td>1.0</td>\n",
       "      <td>80000.0</td>\n",
       "      <td>2011</td>\n",
       "      <td>1</td>\n",
       "      <td>17.94</td>\n",
       "      <td>...</td>\n",
       "      <td>0</td>\n",
       "      <td>0</td>\n",
       "      <td>0</td>\n",
       "      <td>0</td>\n",
       "      <td>0</td>\n",
       "      <td>0</td>\n",
       "      <td>0</td>\n",
       "      <td>0</td>\n",
       "      <td>0</td>\n",
       "      <td>0</td>\n",
       "    </tr>\n",
       "    <tr>\n",
       "      <th>...</th>\n",
       "      <td>...</td>\n",
       "      <td>...</td>\n",
       "      <td>...</td>\n",
       "      <td>...</td>\n",
       "      <td>...</td>\n",
       "      <td>...</td>\n",
       "      <td>...</td>\n",
       "      <td>...</td>\n",
       "      <td>...</td>\n",
       "      <td>...</td>\n",
       "      <td>...</td>\n",
       "      <td>...</td>\n",
       "      <td>...</td>\n",
       "      <td>...</td>\n",
       "      <td>...</td>\n",
       "      <td>...</td>\n",
       "      <td>...</td>\n",
       "      <td>...</td>\n",
       "      <td>...</td>\n",
       "      <td>...</td>\n",
       "      <td>...</td>\n",
       "    </tr>\n",
       "    <tr>\n",
       "      <th>42530</th>\n",
       "      <td>3500.0</td>\n",
       "      <td>0.0</td>\n",
       "      <td>10.28</td>\n",
       "      <td>113.39</td>\n",
       "      <td>10.0</td>\n",
       "      <td>0.0</td>\n",
       "      <td>180000.0</td>\n",
       "      <td>2007</td>\n",
       "      <td>1</td>\n",
       "      <td>10.00</td>\n",
       "      <td>...</td>\n",
       "      <td>0</td>\n",
       "      <td>0</td>\n",
       "      <td>0</td>\n",
       "      <td>0</td>\n",
       "      <td>0</td>\n",
       "      <td>0</td>\n",
       "      <td>0</td>\n",
       "      <td>0</td>\n",
       "      <td>0</td>\n",
       "      <td>0</td>\n",
       "    </tr>\n",
       "    <tr>\n",
       "      <th>42531</th>\n",
       "      <td>1000.0</td>\n",
       "      <td>0.0</td>\n",
       "      <td>9.64</td>\n",
       "      <td>32.11</td>\n",
       "      <td>8.0</td>\n",
       "      <td>0.0</td>\n",
       "      <td>12000.0</td>\n",
       "      <td>2007</td>\n",
       "      <td>1</td>\n",
       "      <td>10.00</td>\n",
       "      <td>...</td>\n",
       "      <td>0</td>\n",
       "      <td>0</td>\n",
       "      <td>0</td>\n",
       "      <td>0</td>\n",
       "      <td>0</td>\n",
       "      <td>0</td>\n",
       "      <td>0</td>\n",
       "      <td>0</td>\n",
       "      <td>0</td>\n",
       "      <td>0</td>\n",
       "    </tr>\n",
       "    <tr>\n",
       "      <th>42532</th>\n",
       "      <td>2525.0</td>\n",
       "      <td>0.0</td>\n",
       "      <td>9.33</td>\n",
       "      <td>80.69</td>\n",
       "      <td>7.0</td>\n",
       "      <td>0.0</td>\n",
       "      <td>110000.0</td>\n",
       "      <td>2007</td>\n",
       "      <td>1</td>\n",
       "      <td>10.00</td>\n",
       "      <td>...</td>\n",
       "      <td>0</td>\n",
       "      <td>0</td>\n",
       "      <td>0</td>\n",
       "      <td>0</td>\n",
       "      <td>0</td>\n",
       "      <td>0</td>\n",
       "      <td>0</td>\n",
       "      <td>0</td>\n",
       "      <td>0</td>\n",
       "      <td>0</td>\n",
       "    </tr>\n",
       "    <tr>\n",
       "      <th>42533</th>\n",
       "      <td>6500.0</td>\n",
       "      <td>0.0</td>\n",
       "      <td>8.38</td>\n",
       "      <td>204.84</td>\n",
       "      <td>4.0</td>\n",
       "      <td>0.0</td>\n",
       "      <td>60000.0</td>\n",
       "      <td>2007</td>\n",
       "      <td>1</td>\n",
       "      <td>4.00</td>\n",
       "      <td>...</td>\n",
       "      <td>0</td>\n",
       "      <td>0</td>\n",
       "      <td>0</td>\n",
       "      <td>0</td>\n",
       "      <td>0</td>\n",
       "      <td>0</td>\n",
       "      <td>0</td>\n",
       "      <td>0</td>\n",
       "      <td>0</td>\n",
       "      <td>0</td>\n",
       "    </tr>\n",
       "    <tr>\n",
       "      <th>42534</th>\n",
       "      <td>5000.0</td>\n",
       "      <td>0.0</td>\n",
       "      <td>7.75</td>\n",
       "      <td>156.11</td>\n",
       "      <td>2.0</td>\n",
       "      <td>10.0</td>\n",
       "      <td>70000.0</td>\n",
       "      <td>2007</td>\n",
       "      <td>1</td>\n",
       "      <td>8.81</td>\n",
       "      <td>...</td>\n",
       "      <td>0</td>\n",
       "      <td>0</td>\n",
       "      <td>0</td>\n",
       "      <td>0</td>\n",
       "      <td>0</td>\n",
       "      <td>0</td>\n",
       "      <td>0</td>\n",
       "      <td>0</td>\n",
       "      <td>0</td>\n",
       "      <td>0</td>\n",
       "    </tr>\n",
       "  </tbody>\n",
       "</table>\n",
       "<p>42535 rows × 98 columns</p>\n",
       "</div>"
      ],
      "text/plain": [
       "       loan_amnt  term  int_rate  installment  sub_grade  emp_length  \\\n",
       "0         5000.0   0.0     10.65       162.87        6.0        10.0   \n",
       "1         2500.0   1.0     15.27        59.83       13.0         0.0   \n",
       "2         2400.0   0.0     15.96        84.33       14.0        10.0   \n",
       "3        10000.0   0.0     13.49       339.31       10.0        10.0   \n",
       "4         3000.0   1.0     12.69        67.79        9.0         1.0   \n",
       "...          ...   ...       ...          ...        ...         ...   \n",
       "42530     3500.0   0.0     10.28       113.39       10.0         0.0   \n",
       "42531     1000.0   0.0      9.64        32.11        8.0         0.0   \n",
       "42532     2525.0   0.0      9.33        80.69        7.0         0.0   \n",
       "42533     6500.0   0.0      8.38       204.84        4.0         0.0   \n",
       "42534     5000.0   0.0      7.75       156.11        2.0        10.0   \n",
       "\n",
       "       annual_inc  issue_d  loan_status    dti  ...  addr_state_SD  \\\n",
       "0         24000.0     2011            1  27.65  ...              0   \n",
       "1         30000.0     2011            0   1.00  ...              0   \n",
       "2         12252.0     2011            1   8.72  ...              0   \n",
       "3         49200.0     2011            1  20.00  ...              0   \n",
       "4         80000.0     2011            1  17.94  ...              0   \n",
       "...           ...      ...          ...    ...  ...            ...   \n",
       "42530    180000.0     2007            1  10.00  ...              0   \n",
       "42531     12000.0     2007            1  10.00  ...              0   \n",
       "42532    110000.0     2007            1  10.00  ...              0   \n",
       "42533     60000.0     2007            1   4.00  ...              0   \n",
       "42534     70000.0     2007            1   8.81  ...              0   \n",
       "\n",
       "       addr_state_TN  addr_state_TX  addr_state_UT  addr_state_VA  \\\n",
       "0                  0              0              0              0   \n",
       "1                  0              0              0              0   \n",
       "2                  0              0              0              0   \n",
       "3                  0              0              0              0   \n",
       "4                  0              0              0              0   \n",
       "...              ...            ...            ...            ...   \n",
       "42530              0              0              0              0   \n",
       "42531              0              0              0              0   \n",
       "42532              0              0              0              0   \n",
       "42533              0              0              0              0   \n",
       "42534              0              0              0              0   \n",
       "\n",
       "       addr_state_VT  addr_state_WA  addr_state_WI  addr_state_WV  \\\n",
       "0                  0              0              0              0   \n",
       "1                  0              0              0              0   \n",
       "2                  0              0              0              0   \n",
       "3                  0              0              0              0   \n",
       "4                  0              0              0              0   \n",
       "...              ...            ...            ...            ...   \n",
       "42530              0              0              0              0   \n",
       "42531              0              0              0              0   \n",
       "42532              0              0              0              0   \n",
       "42533              0              0              0              0   \n",
       "42534              0              0              0              0   \n",
       "\n",
       "       addr_state_WY  \n",
       "0                  0  \n",
       "1                  0  \n",
       "2                  0  \n",
       "3                  0  \n",
       "4                  0  \n",
       "...              ...  \n",
       "42530              0  \n",
       "42531              0  \n",
       "42532              0  \n",
       "42533              0  \n",
       "42534              0  \n",
       "\n",
       "[42535 rows x 98 columns]"
      ]
     },
     "execution_count": 325,
     "metadata": {},
     "output_type": "execute_result"
    }
   ],
   "source": [
    "df_dummies = pd.read_csv('df_dummies.csv') \n",
    "df_dummies.drop('Unnamed: 0', axis=1, inplace=True) \n",
    "df_dummies"
   ]
  },
  {
   "cell_type": "markdown",
   "metadata": {},
   "source": [
    "MODELOWANIE NA NAJWIĘKSZYM ZBIORZE"
   ]
  },
  {
   "cell_type": "markdown",
   "metadata": {},
   "source": [
    "PRZYGOTOWANIE ZBIORÓW"
   ]
  },
  {
   "cell_type": "code",
   "execution_count": 326,
   "metadata": {},
   "outputs": [],
   "source": [
    "X = df_dummies.drop('loan_status', axis=1)\n",
    "Y = df_dummies['loan_status']\n",
    "\n",
    "X_train, X_test, y_train, y_test = train_test_split(X, Y, test_size = 0.3, random_state = 0)"
   ]
  },
  {
   "cell_type": "code",
   "execution_count": 327,
   "metadata": {},
   "outputs": [
    {
     "data": {
      "text/plain": [
       "((29774, 97), (12761, 97))"
      ]
     },
     "execution_count": 327,
     "metadata": {},
     "output_type": "execute_result"
    }
   ],
   "source": [
    "X_train.shape, X_test.shape"
   ]
  },
  {
   "cell_type": "code",
   "execution_count": 328,
   "metadata": {},
   "outputs": [
    {
     "data": {
      "text/plain": [
       "((29774,), (12761,))"
      ]
     },
     "execution_count": 328,
     "metadata": {},
     "output_type": "execute_result"
    }
   ],
   "source": [
    "y_train.shape, y_test.shape"
   ]
  },
  {
   "cell_type": "markdown",
   "metadata": {},
   "source": [
    "SKALOWANIE"
   ]
  },
  {
   "cell_type": "code",
   "execution_count": 329,
   "metadata": {},
   "outputs": [
    {
     "data": {
      "text/plain": [
       "array([[-0.95313026, -0.59377133,  1.03360482, ..., -0.10937932,\n",
       "        -0.06622215, -0.0456804 ],\n",
       "       [-1.22287358, -0.59377133, -0.4798553 , ..., -0.10937932,\n",
       "        -0.06622215, -0.0456804 ],\n",
       "       [ 0.12584299, -0.59377133, -1.61360389, ..., -0.10937932,\n",
       "        -0.06622215, -0.0456804 ],\n",
       "       ...,\n",
       "       [ 0.28768898, -0.59377133, -1.49241936, ..., -0.10937932,\n",
       "        -0.06622215, -0.0456804 ],\n",
       "       [ 0.66532962,  1.68415002,  2.08656372, ..., -0.10937932,\n",
       "        -0.06622215, -0.0456804 ],\n",
       "       [ 0.12584299, -0.59377133,  0.25533084, ..., -0.10937932,\n",
       "        -0.06622215, -0.0456804 ]])"
      ]
     },
     "execution_count": 329,
     "metadata": {},
     "output_type": "execute_result"
    }
   ],
   "source": [
    "sc = StandardScaler()\n",
    "X_train = sc.fit_transform(X_train)\n",
    "X_test = sc.transform(X_test)\n",
    "X_test"
   ]
  },
  {
   "cell_type": "markdown",
   "metadata": {},
   "source": [
    "Regresja Logistyczna"
   ]
  },
  {
   "cell_type": "code",
   "execution_count": 330,
   "metadata": {},
   "outputs": [],
   "source": [
    "log = LogisticRegression()"
   ]
  },
  {
   "cell_type": "code",
   "execution_count": 331,
   "metadata": {},
   "outputs": [
    {
     "data": {
      "text/plain": [
       "LogisticRegression()"
      ]
     },
     "execution_count": 331,
     "metadata": {},
     "output_type": "execute_result"
    }
   ],
   "source": [
    "log.fit(X_train, y_train)"
   ]
  },
  {
   "cell_type": "code",
   "execution_count": 332,
   "metadata": {},
   "outputs": [],
   "source": [
    "log_pred = log.predict(X_test)"
   ]
  },
  {
   "cell_type": "code",
   "execution_count": 333,
   "metadata": {},
   "outputs": [
    {
     "name": "stdout",
     "output_type": "stream",
     "text": [
      "              precision    recall  f1-score   support\n",
      "\n",
      "           0       0.67      0.22      0.33      1978\n",
      "           1       0.87      0.98      0.92     10783\n",
      "\n",
      "    accuracy                           0.86     12761\n",
      "   macro avg       0.77      0.60      0.63     12761\n",
      "weighted avg       0.84      0.86      0.83     12761\n",
      "\n",
      "[[  440  1538]\n",
      " [  215 10568]]\n",
      "Training accuracy: 0.8658897024249345\n",
      "Test accuracy: 0.8626283206645248\n"
     ]
    }
   ],
   "source": [
    "print(classification_report(y_test, log_pred))\n",
    "print(confusion_matrix(y_test, log_pred))\n",
    "print('Training accuracy:', log.score(X_train, y_train))\n",
    "print('Test accuracy:', log.score(X_test, y_test)) "
   ]
  },
  {
   "cell_type": "code",
   "execution_count": 334,
   "metadata": {},
   "outputs": [
    {
     "name": "stdout",
     "output_type": "stream",
     "text": [
      "AUROC = 0.7723556422088347\n"
     ]
    }
   ],
   "source": [
    "auroc_log = roc_auc_score(log_pred,y_test) \n",
    "print('AUROC =', auroc_log)"
   ]
  },
  {
   "cell_type": "code",
   "execution_count": 335,
   "metadata": {},
   "outputs": [
    {
     "data": {
      "image/png": "[encoded data removed]",
      "text/plain": [
       "<Figure size 432x288 with 1 Axes>"
      ]
     },
     "metadata": {},
     "output_type": "display_data"
    }
   ],
   "source": [
    "fpr, tpr, thresholds = roc_curve(y_test, log_pred) \n",
    "plt.figure(figsize=(6,4))\n",
    "plt.plot(fpr, tpr, linewidth=2)\n",
    "plt.plot([0,1], [0,1], 'k--' ) \n",
    "plt.rcParams['font.size'] = 12\n",
    "plt.title('ROC curve for Logistic Regression')\n",
    "plt.xlabel('False Positive Rate (1 - Specificity)')\n",
    "plt.ylabel('True Positive Rate (Sensitivity)')\n",
    "plt.show()"
   ]
  },
  {
   "cell_type": "markdown",
   "metadata": {},
   "source": [
    "Drzewo Decyzyjne"
   ]
  },
  {
   "cell_type": "code",
   "execution_count": 336,
   "metadata": {},
   "outputs": [],
   "source": [
    "dt = DecisionTreeClassifier()"
   ]
  },
  {
   "cell_type": "code",
   "execution_count": 337,
   "metadata": {},
   "outputs": [
    {
     "data": {
      "text/plain": [
       "DecisionTreeClassifier()"
      ]
     },
     "execution_count": 337,
     "metadata": {},
     "output_type": "execute_result"
    }
   ],
   "source": [
    "dt.fit(X_train,y_train)"
   ]
  },
  {
   "cell_type": "code",
   "execution_count": 338,
   "metadata": {},
   "outputs": [],
   "source": [
    "dt_pred = dtree.predict(X_test)"
   ]
  },
  {
   "cell_type": "code",
   "execution_count": 342,
   "metadata": {},
   "outputs": [],
   "source": [
    "def evaluate(prediction,y_test): \n",
    "    result = classification_report(y_test,prediction,output_dict=True)\n",
    "    f1=result['0.0']['f1-score']\n",
    "    accuracy = result['accuracy']\n",
    "    performance_data= {'f1-score':round(f1, 2),\n",
    "                      'accuracy':round(accuracy, 2)}\n",
    "    return performance_data"
   ]
  },
  {
   "cell_type": "code",
   "execution_count": 339,
   "metadata": {},
   "outputs": [
    {
     "name": "stdout",
     "output_type": "stream",
     "text": [
      "              precision    recall  f1-score   support\n",
      "\n",
      "           0       0.38      0.39      0.39      1978\n",
      "           1       0.89      0.88      0.89     10783\n",
      "\n",
      "    accuracy                           0.81     12761\n",
      "   macro avg       0.63      0.64      0.64     12761\n",
      "weighted avg       0.81      0.81      0.81     12761\n",
      "\n",
      "[[ 771 1207]\n",
      " [1247 9536]]\n",
      "Training accuracy: 1.0\n",
      "Test accuracy: 0.8091842332105634\n"
     ]
    }
   ],
   "source": [
    "print(classification_report(y_test, dt_pred))\n",
    "print(confusion_matrix(y_test, dt_pred))\n",
    "\n",
    "\n",
    "print('Training accuracy:', dt.score(X_train, y_train))\n",
    "print('Test accuracy:', dt.score(X_test, y_test))"
   ]
  },
  {
   "cell_type": "code",
   "execution_count": 392,
   "metadata": {},
   "outputs": [
    {
     "name": "stdout",
     "output_type": "stream",
     "text": [
      "AUROC = 0.6348546088092765\n"
     ]
    }
   ],
   "source": [
    "auroc_dt = roc_auc_score(dt_pred,y_test) \n",
    "print('AUROC =', auroc_dt)"
   ]
  },
  {
   "cell_type": "code",
   "execution_count": 341,
   "metadata": {},
   "outputs": [
    {
     "data": {
      "image/png": "[encoded data removed]",
      "text/plain": [
       "<Figure size 432x288 with 1 Axes>"
      ]
     },
     "metadata": {},
     "output_type": "display_data"
    }
   ],
   "source": [
    "fpr, tpr, thresholds = roc_curve(y_test, dt_pred) \n",
    "plt.figure(figsize=(6,4))\n",
    "plt.plot(fpr, tpr, linewidth=2)\n",
    "plt.plot([0,1], [0,1], 'k--' ) \n",
    "plt.rcParams['font.size'] = 12\n",
    "plt.title('ROC curve for Decision Tree')\n",
    "plt.xlabel('False Positive Rate (1 - Specificity)')\n",
    "plt.ylabel('True Positive Rate (Sensitivity)')\n",
    "plt.show()"
   ]
  },
  {
   "cell_type": "code",
   "execution_count": 343,
   "metadata": {},
   "outputs": [
    {
     "name": "stdout",
     "output_type": "stream",
     "text": [
      "ACCURACY dla depth =  1  wynosi : 0.845\n",
      "ACCURACY dla depth =  2  wynosi : 0.855\n",
      "ACCURACY dla depth =  3  wynosi : 0.8598\n",
      "ACCURACY dla depth =  4  wynosi : 0.8654\n",
      "ACCURACY dla depth =  5  wynosi : 0.8592\n",
      "ACCURACY dla depth =  6  wynosi : 0.8617\n",
      "ACCURACY dla depth =  7  wynosi : 0.8562\n",
      "ACCURACY dla depth =  8  wynosi : 0.8534\n",
      "ACCURACY dla depth =  9  wynosi : 0.8506\n",
      "ACCURACY dla depth =  10  wynosi : 0.8445\n",
      "ACCURACY dla depth =  11  wynosi : 0.845\n",
      "ACCURACY dla depth =  12  wynosi : 0.8418\n",
      "ACCURACY dla depth =  13  wynosi : 0.8372\n",
      "ACCURACY dla depth =  14  wynosi : 0.8344\n",
      "ACCURACY dla depth =  15  wynosi : 0.8324\n"
     ]
    }
   ],
   "source": [
    "for i in range(1,16):\n",
    "  dtree = DecisionTreeClassifier(criterion=\"gini\", max_depth=i, random_state= 101)\n",
    "  dtree = dtree.fit(X_train,y_train)\n",
    "  y_pred = dtree.predict(X_test)\n",
    "\n",
    "  print(\"ACCURACY dla depth = \", i ,\" wynosi :\",round(metrics.accuracy_score(y_test, y_pred), 4))"
   ]
  },
  {
   "cell_type": "code",
   "execution_count": 344,
   "metadata": {},
   "outputs": [
    {
     "data": {
      "text/plain": [
       "0.8152966068489931"
      ]
     },
     "execution_count": 344,
     "metadata": {},
     "output_type": "execute_result"
    }
   ],
   "source": [
    "dtree = DecisionTreeClassifier(criterion=\"entropy\", random_state= 101)\n",
    "dtree.fit(X_train, y_train)\n",
    "y_pred = dtree.predict(X_test)\n",
    "metrics.accuracy_score(y_test, y_pred)"
   ]
  },
  {
   "cell_type": "code",
   "execution_count": 345,
   "metadata": {},
   "outputs": [
    {
     "data": {
      "text/plain": [
       "0.8047958623932294"
      ]
     },
     "execution_count": 345,
     "metadata": {},
     "output_type": "execute_result"
    }
   ],
   "source": [
    "dtree = DecisionTreeClassifier(criterion=\"gini\", random_state= 101)\n",
    "dtree.fit(X_train, y_train)\n",
    "y_pred = dtree.predict(X_test)\n",
    "metrics.accuracy_score(y_test, y_pred)"
   ]
  },
  {
   "cell_type": "code",
   "execution_count": 346,
   "metadata": {},
   "outputs": [
    {
     "name": "stdout",
     "output_type": "stream",
     "text": [
      "Dokładnosc dla depth =  1  wynosi : 0.845\n",
      "Dokładnosc dla depth =  2  wynosi : 0.845\n",
      "Dokładnosc dla depth =  3  wynosi : 0.8593\n",
      "Dokładnosc dla depth =  4  wynosi : 0.8649\n",
      "Dokładnosc dla depth =  5  wynosi : 0.8639\n",
      "Dokładnosc dla depth =  6  wynosi : 0.8594\n",
      "Dokładnosc dla depth =  7  wynosi : 0.8558\n",
      "Dokładnosc dla depth =  8  wynosi : 0.8543\n",
      "Dokładnosc dla depth =  9  wynosi : 0.8543\n",
      "Dokładnosc dla depth =  10  wynosi : 0.8539\n",
      "Dokładnosc dla depth =  11  wynosi : 0.8506\n",
      "Dokładnosc dla depth =  12  wynosi : 0.8429\n",
      "Dokładnosc dla depth =  13  wynosi : 0.8416\n",
      "Dokładnosc dla depth =  14  wynosi : 0.8365\n",
      "Dokładnosc dla depth =  15  wynosi : 0.8343\n"
     ]
    }
   ],
   "source": [
    "for i in range(1,16):\n",
    "  dtree = DecisionTreeClassifier(criterion=\"entropy\", max_depth=i, random_state= 101)\n",
    "  dtree = dtree.fit(X_train,y_train)\n",
    "  y_pred = dtree.predict(X_test)\n",
    "\n",
    "  print(\"Dokładnosc dla depth = \", i ,\" wynosi :\",round(metrics.accuracy_score(y_test, y_pred), 4))"
   ]
  },
  {
   "cell_type": "code",
   "execution_count": 347,
   "metadata": {},
   "outputs": [
    {
     "data": {
      "image/png": "[encoded data removed]",
      "text/plain": [
       "<Figure size 432x288 with 1 Axes>"
      ]
     },
     "metadata": {},
     "output_type": "display_data"
    }
   ],
   "source": [
    "max_depths = np.linspace(1, 32, 32, endpoint=True)\n",
    "train_results = []\n",
    "test_results = []\n",
    "for max_depth in max_depths:\n",
    "   dt = DecisionTreeClassifier(max_depth=max_depth)\n",
    "   dt.fit(x_train, y_train)\n",
    "   train_pred = dt.predict(x_train)\n",
    "   false_positive_rate, true_positive_rate, thresholds = roc_curve(y_train, train_pred)\n",
    "   roc_auc = auc(false_positive_rate, true_positive_rate)\n",
    "   # Add auc score to previous train results\n",
    "   train_results.append(roc_auc)\n",
    "   y_pred = dt.predict(x_test)\n",
    "   false_positive_rate, true_positive_rate, thresholds = roc_curve(y_test, y_pred)\n",
    "   roc_auc = auc(false_positive_rate, true_positive_rate)\n",
    "   # Add auc score to previous test results\n",
    "   test_results.append(roc_auc)\n",
    "from matplotlib.legend_handler import HandlerLine2D\n",
    "line1, = plt.plot(max_depths, train_results, label= \"Train AUC\")\n",
    "line2, = plt.plot(max_depths, test_results, label= \"Test AUC\")\n",
    "plt.legend(handler_map={line1: HandlerLine2D(numpoints=2)})\n",
    "plt.ylabel(\"AUC score\")\n",
    "plt.xlabel(\"Tree depth\")\n",
    "plt.show()"
   ]
  },
  {
   "cell_type": "code",
   "execution_count": 348,
   "metadata": {},
   "outputs": [
    {
     "data": {
      "image/png": "[encoded data removed]",
      "text/plain": [
       "<Figure size 432x288 with 1 Axes>"
      ]
     },
     "metadata": {},
     "output_type": "display_data"
    }
   ],
   "source": [
    "min_samples_splits = np.linspace(0.1, 1.0, 10, endpoint=True)\n",
    "train_results = []\n",
    "test_results = []\n",
    "for min_samples_split in min_samples_splits:\n",
    "   dt = DecisionTreeClassifier(min_samples_split=min_samples_split)\n",
    "   dt.fit(x_train, y_train)\n",
    "   train_pred = dt.predict(x_train)\n",
    "   false_positive_rate, true_positive_rate, thresholds =    roc_curve(y_train, train_pred)\n",
    "   roc_auc = auc(false_positive_rate, true_positive_rate)\n",
    "   train_results.append(roc_auc)\n",
    "   y_pred = dt.predict(x_test)\n",
    "   false_positive_rate, true_positive_rate, thresholds = roc_curve(y_test, y_pred)\n",
    "   roc_auc = auc(false_positive_rate, true_positive_rate)\n",
    "   test_results.append(roc_auc)\n",
    "from matplotlib.legend_handler import HandlerLine2D\n",
    "line1, = plt.plot(min_samples_splits, train_results, label=\"Train AUC\")\n",
    "line2, = plt.plot(min_samples_splits, test_results, label=\"Test AUC\")\n",
    "plt.legend(handler_map={line1: HandlerLine2D(numpoints=2)})\n",
    "plt.ylabel(\"AUC score\")\n",
    "plt.xlabel(\"min samples split\")\n",
    "plt.show()"
   ]
  },
  {
   "cell_type": "code",
   "execution_count": 349,
   "metadata": {},
   "outputs": [
    {
     "data": {
      "image/png": "[encoded data removed]",
      "text/plain": [
       "<Figure size 432x288 with 1 Axes>"
      ]
     },
     "metadata": {},
     "output_type": "display_data"
    }
   ],
   "source": [
    "min_samples_leafs = np.linspace(0.1, 0.5, 5, endpoint=True)\n",
    "train_results = []\n",
    "test_results = []\n",
    "for min_samples_leaf in min_samples_leafs:\n",
    "   dt = DecisionTreeClassifier(min_samples_leaf=min_samples_leaf)\n",
    "   dt.fit(x_train, y_train)\n",
    "   train_pred = dt.predict(x_train)\n",
    "   false_positive_rate, true_positive_rate, thresholds = roc_curve(y_train, train_pred)\n",
    "   roc_auc = auc(false_positive_rate, true_positive_rate)\n",
    "   train_results.append(roc_auc)\n",
    "   y_pred = dt.predict(x_test)\n",
    "   false_positive_rate, true_positive_rate, thresholds = roc_curve(y_test, y_pred)\n",
    "   roc_auc = auc(false_positive_rate, true_positive_rate)\n",
    "   test_results.append(roc_auc)\n",
    "from matplotlib.legend_handler import HandlerLine2D\n",
    "line1, = plt.plot(min_samples_leafs, train_results, label=\"Train AUC\")\n",
    "line2, = plt.plot(min_samples_leafs, test_results, label=\"Test AUC\")\n",
    "plt.legend(handler_map={line1: HandlerLine2D(numpoints=2)})\n",
    "plt.ylabel(\"AUC score\")\n",
    "plt.xlabel(\"min samples leaf\")\n",
    "plt.show()"
   ]
  },
  {
   "cell_type": "code",
   "execution_count": 350,
   "metadata": {},
   "outputs": [
    {
     "data": {
      "image/png": "[encoded data removed]",
      "text/plain": [
       "<Figure size 432x288 with 1 Axes>"
      ]
     },
     "metadata": {},
     "output_type": "display_data"
    }
   ],
   "source": [
    "train_results = []\n",
    "test_results = []\n",
    "max_features = list(range(1,df_dummies.shape[1]))\n",
    "\n",
    "for max_feature in max_features:\n",
    "   dt = DecisionTreeClassifier(max_features=max_feature)\n",
    "   dt.fit(x_train, y_train)\n",
    "   train_pred = dt.predict(x_train)\n",
    "   false_positive_rate, true_positive_rate, thresholds = roc_curve(y_train, train_pred)\n",
    "   roc_auc = auc(false_positive_rate, true_positive_rate)\n",
    "   train_results.append(roc_auc)\n",
    "   y_pred = dt.predict(x_test)\n",
    "   false_positive_rate, true_positive_rate, thresholds = roc_curve(y_test, y_pred)\n",
    "   roc_auc = auc(false_positive_rate, true_positive_rate)\n",
    "   test_results.append(roc_auc)\n",
    "from matplotlib.legend_handler import HandlerLine2D\n",
    "line1, = plt.plot(max_features, train_results, label=\"Train AUC\")\n",
    "line2, = plt.plot(max_features, test_results, label=\"Test AUC\")\n",
    "plt.legend(handler_map={line1: HandlerLine2D(numpoints=2)})\n",
    "plt.ylabel(\"AUC score\")\n",
    "plt.xlabel(\"max features\")\n",
    "plt.show()"
   ]
  },
  {
   "cell_type": "code",
   "execution_count": 351,
   "metadata": {},
   "outputs": [],
   "source": [
    "from sklearn.model_selection import RandomizedSearchCV\n",
    "from sklearn.model_selection import GridSearchCV"
   ]
  },
  {
   "cell_type": "code",
   "execution_count": 356,
   "metadata": {},
   "outputs": [],
   "source": [
    "model = DecisionTreeClassifier()"
   ]
  },
  {
   "cell_type": "code",
   "execution_count": 357,
   "metadata": {},
   "outputs": [],
   "source": [
    "grid_param = {  \n",
    "    'max_depth': [2, 4, 6, 8, 10, 12],\n",
    "    'max_features': [2, 3],\n",
    "    'min_samples_leaf': [3, 4, 5],\n",
    "    'criterion' : ['gini', 'entropy']\n",
    "}"
   ]
  },
  {
   "cell_type": "code",
   "execution_count": 358,
   "metadata": {},
   "outputs": [],
   "source": [
    "grid_search = GridSearchCV(estimator=model,  \n",
    "                     param_grid=grid_param,\n",
    "                     scoring='roc_auc')"
   ]
  },
  {
   "cell_type": "code",
   "execution_count": 359,
   "metadata": {},
   "outputs": [
    {
     "name": "stdout",
     "output_type": "stream",
     "text": [
      "{'criterion': 'entropy', 'max_depth': 8, 'max_features': 3, 'min_samples_leaf': 4}\n"
     ]
    }
   ],
   "source": [
    "grid_search.fit(X_train, y_train) \n",
    " \n",
    "best_parameters = grid_search.best_params_  \n",
    "print(best_parameters)"
   ]
  },
  {
   "cell_type": "code",
   "execution_count": 360,
   "metadata": {},
   "outputs": [],
   "source": [
    "dt1 = DecisionTreeClassifier(criterion = 'entropy', max_depth = 8, max_features = 3, min_samples_leaf = 4)"
   ]
  },
  {
   "cell_type": "code",
   "execution_count": 361,
   "metadata": {},
   "outputs": [
    {
     "data": {
      "text/plain": [
       "DecisionTreeClassifier(criterion='entropy', max_depth=8, max_features=3,\n",
       "                       min_samples_leaf=4)"
      ]
     },
     "execution_count": 361,
     "metadata": {},
     "output_type": "execute_result"
    }
   ],
   "source": [
    "dt1.fit(X_train, y_train)"
   ]
  },
  {
   "cell_type": "code",
   "execution_count": 363,
   "metadata": {},
   "outputs": [],
   "source": [
    "dt1_pred = dtree.predict(X_test)"
   ]
  },
  {
   "cell_type": "code",
   "execution_count": 364,
   "metadata": {},
   "outputs": [
    {
     "name": "stdout",
     "output_type": "stream",
     "text": [
      "              precision    recall  f1-score   support\n",
      "\n",
      "           0       0.45      0.32      0.37      1978\n",
      "           1       0.88      0.93      0.90     10783\n",
      "\n",
      "    accuracy                           0.83     12761\n",
      "   macro avg       0.67      0.62      0.64     12761\n",
      "weighted avg       0.81      0.83      0.82     12761\n",
      "\n",
      "[[  633  1345]\n",
      " [  769 10014]]\n",
      "Training accuracy: 0.8510445355007725\n",
      "Test accuracy: 0.8451532011597838\n"
     ]
    }
   ],
   "source": [
    "# Summary of the prediction\n",
    "print(classification_report(y_test, dt1_pred))\n",
    "print(confusion_matrix(y_test, dt1_pred))\n",
    "\n",
    "# Accuracy\n",
    "print('Training accuracy:', dt1.score(X_train, y_train))\n",
    "print('Test accuracy:', dt1.score(X_test, y_test))"
   ]
  },
  {
   "cell_type": "code",
   "execution_count": 393,
   "metadata": {},
   "outputs": [
    {
     "name": "stdout",
     "output_type": "stream",
     "text": [
      "AUROC = 0.6665447748044968\n"
     ]
    }
   ],
   "source": [
    "auroc_dt1 = roc_auc_score(dt1_pred,y_test) \n",
    "print('AUROC =', auroc_dt1)"
   ]
  },
  {
   "cell_type": "code",
   "execution_count": 366,
   "metadata": {},
   "outputs": [
    {
     "data": {
      "text/plain": [
       "[Text(199.9832142857143, 205.35999999999999, 'X[1] <= 0.545\\nentropy = 0.609\\nsamples = 29774\\nvalue = [4453, 25321]'),\n",
       " Text(114.34017857142857, 181.2, 'X[6] <= -0.394\\nentropy = 0.535\\nsamples = 22013\\nvalue = [2682, 19331]'),\n",
       " Text(74.43321428571429, 157.04, 'X[4] <= -0.551\\nentropy = 0.618\\nsamples = 7734\\nvalue = [1184, 6550]'),\n",
       " Text(37.067142857142855, 132.88, 'X[8] <= -1.577\\nentropy = 0.462\\nsamples = 3113\\nvalue = [304, 2809]'),\n",
       " Text(16.740000000000002, 108.72, 'X[3] <= -0.602\\nentropy = 0.56\\nsamples = 267\\nvalue = [35, 232]'),\n",
       " Text(7.174285714285714, 84.56, 'X[10] <= -2.952\\nentropy = 0.425\\nsamples = 185\\nvalue = [16, 169]'),\n",
       " Text(4.782857142857143, 60.400000000000006, 'entropy = 0.811\\nsamples = 4\\nvalue = [1, 3]'),\n",
       " Text(9.565714285714286, 60.400000000000006, 'X[11] <= 0.273\\nentropy = 0.412\\nsamples = 181\\nvalue = [15, 166]'),\n",
       " Text(4.782857142857143, 36.24000000000001, 'X[15] <= -0.629\\nentropy = 0.331\\nsamples = 148\\nvalue = [9, 139]'),\n",
       " Text(2.3914285714285715, 12.079999999999984, 'entropy = 0.0\\nsamples = 26\\nvalue = [0, 26]'),\n",
       " Text(7.174285714285714, 12.079999999999984, 'entropy = 0.38\\nsamples = 122\\nvalue = [9, 113]'),\n",
       " Text(14.348571428571429, 36.24000000000001, 'X[0] <= -1.162\\nentropy = 0.684\\nsamples = 33\\nvalue = [6, 27]'),\n",
       " Text(11.957142857142857, 12.079999999999984, 'entropy = 0.503\\nsamples = 9\\nvalue = [1, 8]'),\n",
       " Text(16.740000000000002, 12.079999999999984, 'entropy = 0.738\\nsamples = 24\\nvalue = [5, 19]'),\n",
       " Text(26.305714285714288, 84.56, 'X[35] <= 0.072\\nentropy = 0.781\\nsamples = 82\\nvalue = [19, 63]'),\n",
       " Text(21.52285714285714, 60.400000000000006, 'X[20] <= 0.371\\nentropy = 0.781\\nsamples = 69\\nvalue = [16, 53]'),\n",
       " Text(19.13142857142857, 36.24000000000001, 'entropy = 0.995\\nsamples = 35\\nvalue = [16, 19]'),\n",
       " Text(23.914285714285715, 36.24000000000001, 'entropy = 0.0\\nsamples = 34\\nvalue = [0, 34]'),\n",
       " Text(31.088571428571427, 60.400000000000006, 'X[3] <= -0.407\\nentropy = 0.779\\nsamples = 13\\nvalue = [3, 10]'),\n",
       " Text(28.697142857142858, 36.24000000000001, 'entropy = 0.811\\nsamples = 4\\nvalue = [3, 1]'),\n",
       " Text(33.480000000000004, 36.24000000000001, 'entropy = 0.0\\nsamples = 9\\nvalue = [0, 9]'),\n",
       " Text(57.394285714285715, 108.72, 'X[42] <= 1.3\\nentropy = 0.451\\nsamples = 2846\\nvalue = [269, 2577]'),\n",
       " Text(45.43714285714286, 84.56, 'X[21] <= 2.025\\nentropy = 0.441\\nsamples = 2526\\nvalue = [231, 2295]'),\n",
       " Text(40.65428571428571, 60.400000000000006, 'X[17] <= -1.606\\nentropy = 0.429\\nsamples = 2416\\nvalue = [212, 2204]'),\n",
       " Text(38.26285714285714, 36.24000000000001, 'entropy = 0.811\\nsamples = 12\\nvalue = [3, 9]'),\n",
       " Text(43.04571428571428, 36.24000000000001, 'X[9] <= 2.605\\nentropy = 0.426\\nsamples = 2404\\nvalue = [209, 2195]'),\n",
       " Text(40.65428571428571, 12.079999999999984, 'entropy = 0.425\\nsamples = 2391\\nvalue = [207, 2184]'),\n",
       " Text(45.43714285714286, 12.079999999999984, 'entropy = 0.619\\nsamples = 13\\nvalue = [2, 11]'),\n",
       " Text(50.22, 60.400000000000006, 'X[10] <= -4.199\\nentropy = 0.664\\nsamples = 110\\nvalue = [19, 91]'),\n",
       " Text(47.82857142857143, 36.24000000000001, 'entropy = 1.0\\nsamples = 6\\nvalue = [3, 3]'),\n",
       " Text(52.611428571428576, 36.24000000000001, 'X[13] <= 0.247\\nentropy = 0.619\\nsamples = 104\\nvalue = [16, 88]'),\n",
       " Text(50.22, 12.079999999999984, 'entropy = 0.722\\nsamples = 70\\nvalue = [14, 56]'),\n",
       " Text(55.002857142857145, 12.079999999999984, 'entropy = 0.323\\nsamples = 34\\nvalue = [2, 32]'),\n",
       " Text(69.35142857142857, 84.56, 'X[18] <= 2.271\\nentropy = 0.526\\nsamples = 320\\nvalue = [38, 282]'),\n",
       " Text(66.96000000000001, 60.400000000000006, 'X[5] <= -0.707\\nentropy = 0.522\\nsamples = 315\\nvalue = [37, 278]'),\n",
       " Text(62.177142857142854, 36.24000000000001, 'X[32] <= 0.398\\nentropy = 0.464\\nsamples = 122\\nvalue = [12, 110]'),\n",
       " Text(59.785714285714285, 12.079999999999984, 'entropy = 0.481\\nsamples = 106\\nvalue = [11, 95]'),\n",
       " Text(64.56857142857143, 12.079999999999984, 'entropy = 0.337\\nsamples = 16\\nvalue = [1, 15]'),\n",
       " Text(71.74285714285715, 36.24000000000001, 'X[3] <= -1.092\\nentropy = 0.556\\nsamples = 193\\nvalue = [25, 168]'),\n",
       " Text(69.35142857142857, 12.079999999999984, 'entropy = 0.911\\nsamples = 49\\nvalue = [16, 33]'),\n",
       " Text(74.13428571428571, 12.079999999999984, 'entropy = 0.337\\nsamples = 144\\nvalue = [9, 135]'),\n",
       " Text(71.74285714285715, 60.400000000000006, 'entropy = 0.722\\nsamples = 5\\nvalue = [1, 4]'),\n",
       " Text(111.79928571428572, 132.88, 'X[43] <= 9.488\\nentropy = 0.702\\nsamples = 4621\\nvalue = [880, 3741]'),\n",
       " Text(104.02714285714286, 108.72, 'X[95] <= 7.517\\nentropy = 0.702\\nsamples = 4606\\nvalue = [876, 3730]'),\n",
       " Text(95.65714285714286, 84.56, 'X[22] <= -1.018\\nentropy = 0.703\\nsamples = 4588\\nvalue = [875, 3713]'),\n",
       " Text(86.09142857142857, 60.400000000000006, 'X[5] <= -0.707\\nentropy = 0.802\\nsamples = 865\\nvalue = [211, 654]'),\n",
       " Text(81.30857142857143, 36.24000000000001, 'X[15] <= -0.631\\nentropy = 0.731\\nsamples = 425\\nvalue = [87, 338]'),\n",
       " Text(78.91714285714286, 12.079999999999984, 'entropy = 1.0\\nsamples = 18\\nvalue = [9, 9]'),\n",
       " Text(83.7, 12.079999999999984, 'entropy = 0.705\\nsamples = 407\\nvalue = [78, 329]'),\n",
       " Text(90.87428571428572, 36.24000000000001, 'X[44] <= 2.143\\nentropy = 0.858\\nsamples = 440\\nvalue = [124, 316]'),\n",
       " Text(88.48285714285714, 12.079999999999984, 'entropy = 0.864\\nsamples = 430\\nvalue = [123, 307]'),\n",
       " Text(93.26571428571428, 12.079999999999984, 'entropy = 0.469\\nsamples = 10\\nvalue = [1, 9]'),\n",
       " Text(105.22285714285715, 60.400000000000006, 'X[32] <= 0.398\\nentropy = 0.676\\nsamples = 3723\\nvalue = [664, 3059]'),\n",
       " Text(100.44, 36.24000000000001, 'X[0] <= -0.557\\nentropy = 0.663\\nsamples = 3095\\nvalue = [534, 2561]'),\n",
       " Text(98.04857142857144, 12.079999999999984, 'entropy = 0.628\\nsamples = 1841\\nvalue = [290, 1551]'),\n",
       " Text(102.83142857142857, 12.079999999999984, 'entropy = 0.711\\nsamples = 1254\\nvalue = [244, 1010]'),\n",
       " Text(110.00571428571429, 36.24000000000001, 'X[41] <= 3.97\\nentropy = 0.736\\nsamples = 628\\nvalue = [130, 498]'),\n",
       " Text(107.61428571428571, 12.079999999999984, 'entropy = 0.732\\nsamples = 615\\nvalue = [126, 489]'),\n",
       " Text(112.39714285714285, 12.079999999999984, 'entropy = 0.89\\nsamples = 13\\nvalue = [4, 9]'),\n",
       " Text(112.39714285714285, 84.56, 'X[2] <= 0.674\\nentropy = 0.31\\nsamples = 18\\nvalue = [1, 17]'),\n",
       " Text(110.00571428571429, 60.400000000000006, 'entropy = 0.0\\nsamples = 14\\nvalue = [0, 14]'),\n",
       " Text(114.78857142857143, 60.400000000000006, 'entropy = 0.811\\nsamples = 4\\nvalue = [1, 3]'),\n",
       " Text(119.57142857142857, 108.72, 'X[10] <= 0.716\\nentropy = 0.837\\nsamples = 15\\nvalue = [4, 11]'),\n",
       " Text(117.18, 84.56, 'entropy = 0.991\\nsamples = 9\\nvalue = [4, 5]'),\n",
       " Text(121.96285714285715, 84.56, 'entropy = 0.0\\nsamples = 6\\nvalue = [0, 6]'),\n",
       " Text(154.24714285714285, 157.04, 'X[72] <= 19.774\\nentropy = 0.484\\nsamples = 14279\\nvalue = [1498, 12781]'),\n",
       " Text(149.46428571428572, 132.88, 'X[46] <= 3.174\\nentropy = 0.484\\nsamples = 14271\\nvalue = [1496, 12775]'),\n",
       " Text(147.07285714285715, 108.72, 'X[85] <= 7.137\\nentropy = 0.487\\nsamples = 13903\\nvalue = [1472, 12431]'),\n",
       " Text(133.92000000000002, 84.56, 'X[7] <= -1.789\\nentropy = 0.488\\nsamples = 13825\\nvalue = [1465, 12360]'),\n",
       " Text(124.35428571428571, 60.400000000000006, 'X[66] <= 2.615\\nentropy = 0.77\\nsamples = 1202\\nvalue = [271, 931]'),\n",
       " Text(119.57142857142857, 36.24000000000001, 'X[8] <= -1.581\\nentropy = 0.778\\nsamples = 1156\\nvalue = [266, 890]'),\n",
       " Text(117.18, 12.079999999999984, 'entropy = 0.377\\nsamples = 96\\nvalue = [7, 89]'),\n",
       " Text(121.96285714285715, 12.079999999999984, 'entropy = 0.802\\nsamples = 1060\\nvalue = [259, 801]'),\n",
       " Text(129.13714285714286, 36.24000000000001, 'X[15] <= -0.379\\nentropy = 0.496\\nsamples = 46\\nvalue = [5, 41]'),\n",
       " Text(126.74571428571429, 12.079999999999984, 'entropy = 0.0\\nsamples = 14\\nvalue = [0, 14]'),\n",
       " Text(131.52857142857144, 12.079999999999984, 'entropy = 0.625\\nsamples = 32\\nvalue = [5, 27]'),\n",
       " Text(143.4857142857143, 60.400000000000006, 'X[23] <= -0.903\\nentropy = 0.452\\nsamples = 12623\\nvalue = [1194, 11429]'),\n",
       " Text(138.70285714285714, 36.24000000000001, 'X[35] <= 0.072\\nentropy = 0.688\\nsamples = 1947\\nvalue = [358, 1589]'),\n",
       " Text(136.31142857142856, 12.079999999999984, 'entropy = 0.727\\nsamples = 929\\nvalue = [188, 741]'),\n",
       " Text(141.09428571428572, 12.079999999999984, 'entropy = 0.651\\nsamples = 1018\\nvalue = [170, 848]'),\n",
       " Text(148.26857142857142, 36.24000000000001, 'X[17] <= -1.002\\nentropy = 0.396\\nsamples = 10676\\nvalue = [836, 9840]'),\n",
       " Text(145.87714285714287, 12.079999999999984, 'entropy = 0.484\\nsamples = 801\\nvalue = [84, 717]'),\n",
       " Text(150.66, 12.079999999999984, 'entropy = 0.388\\nsamples = 9875\\nvalue = [752, 9123]'),\n",
       " Text(160.22571428571428, 84.56, 'X[3] <= -0.617\\nentropy = 0.436\\nsamples = 78\\nvalue = [7, 71]'),\n",
       " Text(157.83428571428573, 60.400000000000006, 'entropy = 0.0\\nsamples = 34\\nvalue = [0, 34]'),\n",
       " Text(162.61714285714285, 60.400000000000006, 'X[5] <= -0.153\\nentropy = 0.632\\nsamples = 44\\nvalue = [7, 37]'),\n",
       " Text(157.83428571428573, 36.24000000000001, 'X[8] <= -0.006\\nentropy = 0.337\\nsamples = 16\\nvalue = [1, 15]'),\n",
       " Text(155.44285714285715, 12.079999999999984, 'entropy = 0.592\\nsamples = 7\\nvalue = [1, 6]'),\n",
       " Text(160.22571428571428, 12.079999999999984, 'entropy = 0.0\\nsamples = 9\\nvalue = [0, 9]'),\n",
       " Text(167.4, 36.24000000000001, 'X[20] <= 0.191\\nentropy = 0.75\\nsamples = 28\\nvalue = [6, 22]'),\n",
       " Text(165.00857142857143, 12.079999999999984, 'entropy = 0.971\\nsamples = 15\\nvalue = [6, 9]'),\n",
       " Text(169.79142857142858, 12.079999999999984, 'entropy = 0.0\\nsamples = 13\\nvalue = [0, 13]'),\n",
       " Text(151.8557142857143, 108.72, 'entropy = 0.348\\nsamples = 368\\nvalue = [24, 344]'),\n",
       " Text(159.03, 132.88, 'X[3] <= -0.37\\nentropy = 0.811\\nsamples = 8\\nvalue = [2, 6]'),\n",
       " Text(156.63857142857142, 108.72, 'entropy = 1.0\\nsamples = 4\\nvalue = [2, 2]'),\n",
       " Text(161.42142857142858, 108.72, 'entropy = 0.0\\nsamples = 4\\nvalue = [0, 4]'),\n",
       " Text(285.62625, 181.2, 'X[14] <= 1.828\\nentropy = 0.775\\nsamples = 7761\\nvalue = [1771, 5990]'),\n",
       " Text(249.60535714285714, 157.04, 'X[23] <= -0.903\\nentropy = 0.764\\nsamples = 7322\\nvalue = [1626, 5696]'),\n",
       " Text(221.805, 132.88, 'X[37] <= 1.593\\nentropy = 0.841\\nsamples = 3690\\nvalue = [994, 2696]'),\n",
       " Text(206.85857142857142, 108.72, 'X[34] <= 1.113\\nentropy = 0.851\\nsamples = 3425\\nvalue = [949, 2476]'),\n",
       " Text(191.31428571428572, 84.56, 'X[44] <= 2.143\\nentropy = 0.858\\nsamples = 3063\\nvalue = [863, 2200]'),\n",
       " Text(181.74857142857144, 60.400000000000006, 'X[85] <= 7.137\\nentropy = 0.849\\nsamples = 2834\\nvalue = [781, 2053]'),\n",
       " Text(176.96571428571428, 36.24000000000001, 'X[3] <= -1.061\\nentropy = 0.85\\nsamples = 2818\\nvalue = [778, 2040]'),\n",
       " Text(174.5742857142857, 12.079999999999984, 'entropy = 0.949\\nsamples = 193\\nvalue = [71, 122]'),\n",
       " Text(179.35714285714286, 12.079999999999984, 'entropy = 0.841\\nsamples = 2625\\nvalue = [707, 1918]'),\n",
       " Text(186.53142857142856, 36.24000000000001, 'X[2] <= 1.561\\nentropy = 0.696\\nsamples = 16\\nvalue = [3, 13]'),\n",
       " Text(184.14000000000001, 12.079999999999984, 'entropy = 0.881\\nsamples = 10\\nvalue = [3, 7]'),\n",
       " Text(188.92285714285714, 12.079999999999984, 'entropy = 0.0\\nsamples = 6\\nvalue = [0, 6]'),\n",
       " Text(200.88, 60.400000000000006, 'X[8] <= 0.071\\nentropy = 0.941\\nsamples = 229\\nvalue = [82, 147]'),\n",
       " Text(196.09714285714287, 36.24000000000001, 'X[12] <= -1.776\\nentropy = 0.889\\nsamples = 147\\nvalue = [45, 102]'),\n",
       " Text(193.7057142857143, 12.079999999999984, 'entropy = 0.0\\nsamples = 8\\nvalue = [0, 8]'),\n",
       " Text(198.48857142857142, 12.079999999999984, 'entropy = 0.908\\nsamples = 139\\nvalue = [45, 94]'),\n",
       " Text(205.66285714285715, 36.24000000000001, 'X[74] <= 3.471\\nentropy = 0.993\\nsamples = 82\\nvalue = [37, 45]'),\n",
       " Text(203.27142857142857, 12.079999999999984, 'entropy = 0.996\\nsamples = 78\\nvalue = [36, 42]'),\n",
       " Text(208.05428571428573, 12.079999999999984, 'entropy = 0.811\\nsamples = 4\\nvalue = [1, 3]'),\n",
       " Text(222.40285714285716, 84.56, 'X[22] <= -1.018\\nentropy = 0.791\\nsamples = 362\\nvalue = [86, 276]'),\n",
       " Text(220.01142857142858, 60.400000000000006, 'X[21] <= 1.15\\nentropy = 0.881\\nsamples = 50\\nvalue = [15, 35]'),\n",
       " Text(215.22857142857143, 36.24000000000001, 'X[16] <= -0.182\\nentropy = 0.83\\nsamples = 42\\nvalue = [11, 31]'),\n",
       " Text(212.83714285714285, 12.079999999999984, 'entropy = 0.811\\nsamples = 4\\nvalue = [3, 1]'),\n",
       " Text(217.62, 12.079999999999984, 'entropy = 0.742\\nsamples = 38\\nvalue = [8, 30]'),\n",
       " Text(224.7942857142857, 36.24000000000001, 'X[16] <= 1.045\\nentropy = 1.0\\nsamples = 8\\nvalue = [4, 4]'),\n",
       " Text(222.40285714285716, 12.079999999999984, 'entropy = 1.0\\nsamples = 4\\nvalue = [2, 2]'),\n",
       " Text(227.18571428571428, 12.079999999999984, 'entropy = 1.0\\nsamples = 4\\nvalue = [2, 2]'),\n",
       " Text(224.7942857142857, 60.400000000000006, 'entropy = 0.774\\nsamples = 312\\nvalue = [71, 241]'),\n",
       " Text(236.75142857142856, 108.72, 'X[20] <= -0.558\\nentropy = 0.657\\nsamples = 265\\nvalue = [45, 220]'),\n",
       " Text(234.36, 84.56, 'entropy = 0.998\\nsamples = 63\\nvalue = [33, 30]'),\n",
       " Text(239.14285714285714, 84.56, 'X[69] <= 3.526\\nentropy = 0.325\\nsamples = 202\\nvalue = [12, 190]'),\n",
       " Text(236.75142857142856, 60.400000000000006, 'X[67] <= 2.912\\nentropy = 0.31\\nsamples = 198\\nvalue = [11, 187]'),\n",
       " Text(234.36, 36.24000000000001, 'X[16] <= -0.338\\nentropy = 0.319\\nsamples = 190\\nvalue = [11, 179]'),\n",
       " Text(231.96857142857144, 12.079999999999984, 'entropy = 0.525\\nsamples = 76\\nvalue = [9, 67]'),\n",
       " Text(236.75142857142856, 12.079999999999984, 'entropy = 0.127\\nsamples = 114\\nvalue = [2, 112]'),\n",
       " Text(239.14285714285714, 36.24000000000001, 'entropy = 0.0\\nsamples = 8\\nvalue = [0, 8]'),\n",
       " Text(241.53428571428572, 60.400000000000006, 'entropy = 0.811\\nsamples = 4\\nvalue = [1, 3]'),\n",
       " Text(277.4057142857143, 132.88, 'X[19] <= 1.502\\nentropy = 0.667\\nsamples = 3632\\nvalue = [632, 3000]'),\n",
       " Text(259.47, 108.72, 'X[21] <= -1.037\\nentropy = 0.698\\nsamples = 3034\\nvalue = [572, 2462]'),\n",
       " Text(248.70857142857142, 84.56, 'X[4] <= -0.834\\nentropy = 0.834\\nsamples = 185\\nvalue = [49, 136]'),\n",
       " Text(246.31714285714287, 60.400000000000006, 'entropy = 0.0\\nsamples = 5\\nvalue = [0, 5]'),\n",
       " Text(251.1, 60.400000000000006, 'X[2] <= -0.535\\nentropy = 0.845\\nsamples = 180\\nvalue = [49, 131]'),\n",
       " Text(248.70857142857142, 36.24000000000001, 'entropy = 0.954\\nsamples = 8\\nvalue = [5, 3]'),\n",
       " Text(253.49142857142857, 36.24000000000001, 'X[56] <= 1.649\\nentropy = 0.82\\nsamples = 172\\nvalue = [44, 128]'),\n",
       " Text(251.1, 12.079999999999984, 'entropy = 0.793\\nsamples = 159\\nvalue = [38, 121]'),\n",
       " Text(255.88285714285715, 12.079999999999984, 'entropy = 0.996\\nsamples = 13\\nvalue = [6, 7]'),\n",
       " Text(270.2314285714286, 84.56, 'X[10] <= 1.01\\nentropy = 0.688\\nsamples = 2849\\nvalue = [523, 2326]'),\n",
       " Text(265.4485714285714, 60.400000000000006, 'X[37] <= 1.593\\nentropy = 0.685\\nsamples = 2792\\nvalue = [509, 2283]'),\n",
       " Text(263.0571428571429, 36.24000000000001, 'X[22] <= 0.619\\nentropy = 0.692\\nsamples = 2567\\nvalue = [476, 2091]'),\n",
       " Text(260.6657142857143, 12.079999999999984, 'entropy = 0.709\\nsamples = 1590\\nvalue = [308, 1282]'),\n",
       " Text(265.4485714285714, 12.079999999999984, 'entropy = 0.662\\nsamples = 977\\nvalue = [168, 809]'),\n",
       " Text(267.84000000000003, 36.24000000000001, 'entropy = 0.601\\nsamples = 225\\nvalue = [33, 192]'),\n",
       " Text(275.01428571428573, 60.400000000000006, 'X[0] <= -0.852\\nentropy = 0.804\\nsamples = 57\\nvalue = [14, 43]'),\n",
       " Text(272.62285714285713, 36.24000000000001, 'entropy = 0.0\\nsamples = 9\\nvalue = [0, 9]'),\n",
       " Text(277.4057142857143, 36.24000000000001, 'entropy = 0.871\\nsamples = 48\\nvalue = [14, 34]'),\n",
       " Text(295.3414285714286, 108.72, 'X[24] <= 1.192\\nentropy = 0.47\\nsamples = 598\\nvalue = [60, 538]'),\n",
       " Text(289.36285714285714, 84.56, 'X[44] <= 2.143\\nentropy = 0.482\\nsamples = 547\\nvalue = [57, 490]'),\n",
       " Text(284.58, 60.400000000000006, 'X[6] <= -0.102\\nentropy = 0.457\\nsamples = 499\\nvalue = [48, 451]'),\n",
       " Text(282.18857142857144, 36.24000000000001, 'X[56] <= 1.649\\nentropy = 0.58\\nsamples = 231\\nvalue = [32, 199]'),\n",
       " Text(279.7971428571429, 12.079999999999984, 'entropy = 0.549\\nsamples = 205\\nvalue = [26, 179]'),\n",
       " Text(284.58, 12.079999999999984, 'entropy = 0.779\\nsamples = 26\\nvalue = [6, 20]'),\n",
       " Text(286.9714285714286, 36.24000000000001, 'entropy = 0.326\\nsamples = 268\\nvalue = [16, 252]'),\n",
       " Text(294.1457142857143, 60.400000000000006, 'X[5] <= -0.153\\nentropy = 0.696\\nsamples = 48\\nvalue = [9, 39]'),\n",
       " Text(291.75428571428574, 36.24000000000001, 'entropy = 0.454\\nsamples = 21\\nvalue = [2, 19]'),\n",
       " Text(296.53714285714284, 36.24000000000001, 'entropy = 0.826\\nsamples = 27\\nvalue = [7, 20]'),\n",
       " Text(301.32, 84.56, 'X[12] <= -0.127\\nentropy = 0.323\\nsamples = 51\\nvalue = [3, 48]'),\n",
       " Text(298.92857142857144, 60.400000000000006, 'entropy = 0.0\\nsamples = 4\\nvalue = [0, 4]'),\n",
       " Text(303.7114285714286, 60.400000000000006, 'X[0] <= -0.987\\nentropy = 0.342\\nsamples = 47\\nvalue = [3, 44]'),\n",
       " Text(301.32, 36.24000000000001, 'entropy = 0.0\\nsamples = 15\\nvalue = [0, 15]'),\n",
       " Text(306.10285714285715, 36.24000000000001, 'entropy = 0.449\\nsamples = 32\\nvalue = [3, 29]'),\n",
       " Text(321.64714285714285, 157.04, 'X[28] <= 1.599\\nentropy = 0.915\\nsamples = 439\\nvalue = [145, 294]'),\n",
       " Text(313.27714285714285, 132.88, 'X[5] <= -1.261\\nentropy = 0.924\\nsamples = 401\\nvalue = [136, 265]'),\n",
       " Text(310.8857142857143, 108.72, 'entropy = 0.996\\nsamples = 26\\nvalue = [12, 14]'),\n",
       " Text(315.66857142857145, 108.72, 'X[19] <= -1.259\\nentropy = 0.916\\nsamples = 375\\nvalue = [124, 251]'),\n",
       " Text(310.8857142857143, 84.56, 'X[61] <= 2.407\\nentropy = 0.981\\nsamples = 43\\nvalue = [25, 18]'),\n",
       " Text(308.4942857142857, 60.400000000000006, 'entropy = 0.977\\nsamples = 39\\nvalue = [23, 16]'),\n",
       " Text(313.27714285714285, 60.400000000000006, 'entropy = 1.0\\nsamples = 4\\nvalue = [2, 2]'),\n",
       " Text(320.45142857142855, 84.56, 'X[22] <= 0.619\\nentropy = 0.879\\nsamples = 332\\nvalue = [99, 233]'),\n",
       " Text(318.06, 60.400000000000006, 'entropy = 0.877\\nsamples = 327\\nvalue = [97, 230]'),\n",
       " Text(322.84285714285716, 60.400000000000006, 'entropy = 0.971\\nsamples = 5\\nvalue = [2, 3]'),\n",
       " Text(330.01714285714286, 132.88, 'X[56] <= 1.649\\nentropy = 0.79\\nsamples = 38\\nvalue = [9, 29]'),\n",
       " Text(327.6257142857143, 108.72, 'X[35] <= 0.072\\nentropy = 0.672\\nsamples = 34\\nvalue = [6, 28]'),\n",
       " Text(325.2342857142857, 84.56, 'entropy = 0.503\\nsamples = 18\\nvalue = [2, 16]'),\n",
       " Text(330.01714285714286, 84.56, 'X[8] <= 0.896\\nentropy = 0.811\\nsamples = 16\\nvalue = [4, 12]'),\n",
       " Text(327.6257142857143, 60.400000000000006, 'X[2] <= 1.02\\nentropy = 0.918\\nsamples = 12\\nvalue = [4, 8]'),\n",
       " Text(325.2342857142857, 36.24000000000001, 'entropy = 0.65\\nsamples = 6\\nvalue = [1, 5]'),\n",
       " Text(330.01714285714286, 36.24000000000001, 'entropy = 1.0\\nsamples = 6\\nvalue = [3, 3]'),\n",
       " Text(332.4085714285714, 60.400000000000006, 'entropy = 0.0\\nsamples = 4\\nvalue = [0, 4]'),\n",
       " Text(332.4085714285714, 108.72, 'entropy = 0.811\\nsamples = 4\\nvalue = [3, 1]')]"
      ]
     },
     "execution_count": 366,
     "metadata": {},
     "output_type": "execute_result"
    },
    {
     "data": {
      "image/png": "[encoded data removed]",
      "text/plain": [
       "<Figure size 432x288 with 1 Axes>"
      ]
     },
     "metadata": {},
     "output_type": "display_data"
    }
   ],
   "source": [
    "tree.plot_tree(dt1)"
   ]
  },
  {
   "cell_type": "code",
   "execution_count": 367,
   "metadata": {},
   "outputs": [
    {
     "name": "stdout",
     "output_type": "stream",
     "text": [
      "The maximum depth of the tree 8\n"
     ]
    }
   ],
   "source": [
    "def get_depth(model): \n",
    "    check_is_fitted(self)\n",
    "    return model.tree_.max_depth\n",
    "print('The maximum depth of the tree', dt1.tree_.max_depth)"
   ]
  },
  {
   "cell_type": "markdown",
   "metadata": {},
   "source": [
    "RANDOM FOREST CLASSIFIER"
   ]
  },
  {
   "cell_type": "code",
   "execution_count": 368,
   "metadata": {},
   "outputs": [],
   "source": [
    "rf = RandomForestClassifier(n_estimators=100, random_state=0)"
   ]
  },
  {
   "cell_type": "code",
   "execution_count": 369,
   "metadata": {},
   "outputs": [
    {
     "data": {
      "text/plain": [
       "RandomForestClassifier(random_state=0)"
      ]
     },
     "execution_count": 369,
     "metadata": {},
     "output_type": "execute_result"
    }
   ],
   "source": [
    "rf.fit(X_train, y_train)"
   ]
  },
  {
   "cell_type": "code",
   "execution_count": 370,
   "metadata": {},
   "outputs": [],
   "source": [
    "rf_prediction = rf.predict(X_test)"
   ]
  },
  {
   "cell_type": "code",
   "execution_count": 371,
   "metadata": {},
   "outputs": [
    {
     "name": "stdout",
     "output_type": "stream",
     "text": [
      "              precision    recall  f1-score   support\n",
      "\n",
      "           0       0.66      0.19      0.29      1978\n",
      "           1       0.87      0.98      0.92     10783\n",
      "\n",
      "    accuracy                           0.86     12761\n",
      "   macro avg       0.77      0.59      0.61     12761\n",
      "weighted avg       0.84      0.86      0.82     12761\n",
      "\n",
      "[[  375  1603]\n",
      " [  191 10592]]\n",
      "Training accuracy: 1.0\n",
      "Test accuracy: 0.8594154063161195\n"
     ]
    }
   ],
   "source": [
    "print(classification_report(y_test, rf_prediction)) \n",
    "print(confusion_matrix(y_test, rf_prediction))\n",
    "\n",
    "print('Training accuracy:', rf.score(X_train, y_train)) \n",
    "print('Test accuracy:', rf.score(X_test, y_test))"
   ]
  },
  {
   "cell_type": "code",
   "execution_count": 372,
   "metadata": {},
   "outputs": [
    {
     "data": {
      "text/plain": [
       "array([[  375,  1603],\n",
       "       [  191, 10592]])"
      ]
     },
     "execution_count": 372,
     "metadata": {},
     "output_type": "execute_result"
    }
   ],
   "source": [
    "confusion_matrix(y_test, rf_prediction)"
   ]
  },
  {
   "cell_type": "code",
   "execution_count": 373,
   "metadata": {},
   "outputs": [
    {
     "name": "stdout",
     "output_type": "stream",
     "text": [
      "0.7655484275690815\n"
     ]
    }
   ],
   "source": [
    "auroc_rf = roc_auc_score(rf_prediction,y_test) \n",
    "print(auroc_rf)"
   ]
  },
  {
   "cell_type": "code",
   "execution_count": 374,
   "metadata": {},
   "outputs": [
    {
     "data": {
      "image/png": "[encoded data removed]",
      "text/plain": [
       "<Figure size 432x288 with 1 Axes>"
      ]
     },
     "metadata": {},
     "output_type": "display_data"
    }
   ],
   "source": [
    "fpr, tpr, thresholds = roc_curve(y_test, rf_prediction) \n",
    "plt.figure(figsize=(6,4))\n",
    "plt.plot(fpr, tpr, linewidth=2)\n",
    "plt.plot([0,1], [0,1], 'k--' ) \n",
    "plt.rcParams['font.size'] = 12\n",
    "plt.title('ROC curve for RandomForestClassifier')\n",
    "plt.xlabel('False Positive Rate (1 - Specificity)')\n",
    "plt.ylabel('True Positive Rate (Sensitivity)')\n",
    "plt.show()"
   ]
  },
  {
   "cell_type": "code",
   "execution_count": 375,
   "metadata": {},
   "outputs": [
    {
     "name": "stdout",
     "output_type": "stream",
     "text": [
      "{'n_estimators': [100, 200, 300, 400, 500, 600, 700, 800, 900, 1000], 'max_features': ['auto', 'sqrt'], 'max_depth': [3, 4, 5, 6, 7, 8, 9, 10], 'min_samples_split': [2, 4, 6, 8, 10], 'min_samples_leaf': [1, 2, 3, 4, 5], 'bootstrap': [True]}\n"
     ]
    }
   ],
   "source": [
    "n_estimators = [int(x) for x in np.linspace(start = 100, stop = 1000, num = 10)]\n",
    "max_features = ['auto', 'sqrt']\n",
    "max_depth = [int(x) for x in np.linspace(3, 10, num = 8)]\n",
    "min_samples_split = [2, 4, 6, 8, 10]\n",
    "min_samples_leaf = [1, 2, 3, 4, 5]\n",
    "bootstrap = [True]\n",
    "random_grid = {'n_estimators': n_estimators,\n",
    "               'max_features': max_features,\n",
    "               'max_depth': max_depth,\n",
    "               'min_samples_split': min_samples_split,\n",
    "               'min_samples_leaf': min_samples_leaf,\n",
    "               'bootstrap': bootstrap}\n",
    "print(random_grid)"
   ]
  },
  {
   "cell_type": "code",
   "execution_count": 376,
   "metadata": {},
   "outputs": [],
   "source": [
    "rf1 = RandomizedSearchCV(estimator = rf, param_distributions = random_grid, n_iter = 100, cv = 3, verbose=2, random_state=42, n_jobs = -1)"
   ]
  },
  {
   "cell_type": "code",
   "execution_count": 377,
   "metadata": {},
   "outputs": [
    {
     "name": "stdout",
     "output_type": "stream",
     "text": [
      "Fitting 3 folds for each of 100 candidates, totalling 300 fits\n"
     ]
    },
    {
     "name": "stderr",
     "output_type": "stream",
     "text": [
      "/opt/anaconda3/lib/python3.8/site-packages/joblib/externals/loky/process_executor.py:688: UserWarning: A worker stopped while some jobs were given to the executor. This can be caused by a too short worker timeout or by a memory leak.\n",
      "  warnings.warn(\n"
     ]
    },
    {
     "data": {
      "text/plain": [
       "RandomizedSearchCV(cv=3, estimator=RandomForestClassifier(random_state=0),\n",
       "                   n_iter=100, n_jobs=-1,\n",
       "                   param_distributions={'bootstrap': [True],\n",
       "                                        'max_depth': [3, 4, 5, 6, 7, 8, 9, 10],\n",
       "                                        'max_features': ['auto', 'sqrt'],\n",
       "                                        'min_samples_leaf': [1, 2, 3, 4, 5],\n",
       "                                        'min_samples_split': [2, 4, 6, 8, 10],\n",
       "                                        'n_estimators': [100, 200, 300, 400,\n",
       "                                                         500, 600, 700, 800,\n",
       "                                                         900, 1000]},\n",
       "                   random_state=42, verbose=2)"
      ]
     },
     "execution_count": 377,
     "metadata": {},
     "output_type": "execute_result"
    }
   ],
   "source": [
    "rf1.fit(X_train, y_train)"
   ]
  },
  {
   "cell_type": "code",
   "execution_count": 379,
   "metadata": {},
   "outputs": [
    {
     "data": {
      "text/plain": [
       "{'n_estimators': 100,\n",
       " 'min_samples_split': 10,\n",
       " 'min_samples_leaf': 2,\n",
       " 'max_features': 'auto',\n",
       " 'max_depth': 10,\n",
       " 'bootstrap': True}"
      ]
     },
     "execution_count": 379,
     "metadata": {},
     "output_type": "execute_result"
    }
   ],
   "source": [
    "rf1.best_params_"
   ]
  },
  {
   "cell_type": "code",
   "execution_count": 380,
   "metadata": {},
   "outputs": [
    {
     "data": {
      "text/plain": [
       "RandomForestClassifier(max_depth=10, min_samples_leaf=2, min_samples_split=10)"
      ]
     },
     "execution_count": 380,
     "metadata": {},
     "output_type": "execute_result"
    }
   ],
   "source": [
    "rf1 = RandomForestClassifier(n_estimators=100, max_depth=10, min_samples_split=10, min_samples_leaf=2, max_features='auto', bootstrap=True)"
   ]
  },
  {
   "cell_type": "code",
   "execution_count": 381,
   "metadata": {},
   "outputs": [
    {
     "data": {
      "text/plain": [
       "RandomForestClassifier(max_depth=10, min_samples_leaf=2, min_samples_split=10)"
      ]
     },
     "execution_count": 381,
     "metadata": {},
     "output_type": "execute_result"
    }
   ],
   "source": [
    "rf1.fit(X_train, y_train)"
   ]
  },
  {
   "cell_type": "code",
   "execution_count": 382,
   "metadata": {},
   "outputs": [],
   "source": [
    "rf1_prediction = rf1.predict(X_test)"
   ]
  },
  {
   "cell_type": "code",
   "execution_count": 383,
   "metadata": {},
   "outputs": [
    {
     "name": "stdout",
     "output_type": "stream",
     "text": [
      "              precision    recall  f1-score   support\n",
      "\n",
      "           0       0.77      0.02      0.03      1978\n",
      "           1       0.85      1.00      0.92     10783\n",
      "\n",
      "    accuracy                           0.85     12761\n",
      "   macro avg       0.81      0.51      0.48     12761\n",
      "weighted avg       0.84      0.85      0.78     12761\n",
      "\n",
      "[[   34  1944]\n",
      " [   10 10773]]\n",
      "Training accuracy: 0.8592731913750252\n",
      "Test accuracy: 0.8468772039808793\n"
     ]
    }
   ],
   "source": [
    "print(classification_report(y_test,rf1_prediction))\n",
    "print(confusion_matrix(y_test, rf1_prediction))\n",
    "print('Training accuracy:', rf1.score(X_train, y_train))\n",
    "print('Test accuracy:', rf1.score(X_test, y_test))"
   ]
  },
  {
   "cell_type": "code",
   "execution_count": 384,
   "metadata": {},
   "outputs": [
    {
     "name": "stdout",
     "output_type": "stream",
     "text": [
      "0.809930515344528\n"
     ]
    }
   ],
   "source": [
    "auroc_rf1 = roc_auc_score(rf1_prediction,y_test) \n",
    "print(auroc_rf1)"
   ]
  },
  {
   "cell_type": "code",
   "execution_count": 385,
   "metadata": {},
   "outputs": [
    {
     "data": {
      "image/png": "[encoded data removed]",
      "text/plain": [
       "<Figure size 432x288 with 1 Axes>"
      ]
     },
     "metadata": {},
     "output_type": "display_data"
    }
   ],
   "source": [
    "fpr, tpr, thresholds = roc_curve(y_test, rf_prediction) \n",
    "plt.figure(figsize=(6,4))\n",
    "plt.plot(fpr, tpr, linewidth=2)\n",
    "plt.plot([0,1], [0,1], 'k--' ) \n",
    "plt.rcParams['font.size'] = 12\n",
    "plt.title('ROC curve for RandomForestClassifier')\n",
    "plt.xlabel('False Positive Rate (1 - Specificity)')\n",
    "plt.ylabel('True Positive Rate (Sensitivity)')\n",
    "plt.show()"
   ]
  },
  {
   "cell_type": "markdown",
   "metadata": {},
   "source": [
    "SUPPORT VECTOR MACHINE (SVM)"
   ]
  },
  {
   "cell_type": "code",
   "execution_count": 254,
   "metadata": {},
   "outputs": [],
   "source": [
    "from sklearn.svm import SVC"
   ]
  },
  {
   "cell_type": "code",
   "execution_count": 255,
   "metadata": {},
   "outputs": [],
   "source": [
    "model = SVC()"
   ]
  },
  {
   "cell_type": "code",
   "execution_count": 256,
   "metadata": {},
   "outputs": [
    {
     "data": {
      "text/plain": [
       "SVC()"
      ]
     },
     "execution_count": 256,
     "metadata": {},
     "output_type": "execute_result"
    }
   ],
   "source": [
    "model.fit(X_train,y_train)"
   ]
  },
  {
   "cell_type": "code",
   "execution_count": 280,
   "metadata": {},
   "outputs": [],
   "source": [
    "svm_prediction = model.predict(X_test)"
   ]
  },
  {
   "cell_type": "code",
   "execution_count": 260,
   "metadata": {},
   "outputs": [],
   "source": [
    "result = classification_report(y_test,svm_prediction,output_dict=True)"
   ]
  },
  {
   "cell_type": "code",
   "execution_count": 261,
   "metadata": {},
   "outputs": [
    {
     "name": "stdout",
     "output_type": "stream",
     "text": [
      "              precision    recall  f1-score   support\n",
      "\n",
      "           0       0.72      0.12      0.20      1978\n",
      "           1       0.86      0.99      0.92     10783\n",
      "\n",
      "    accuracy                           0.86     12761\n",
      "   macro avg       0.79      0.55      0.56     12761\n",
      "weighted avg       0.84      0.86      0.81     12761\n",
      "\n",
      "[[  232  1746]\n",
      " [   92 10691]]\n",
      "Training accuracy: 0.8716329683616578\n",
      "Test accuracy: 0.8559674006739284\n"
     ]
    }
   ],
   "source": [
    "print(classification_report(y_test,svm_prediction))\n",
    "print(confusion_matrix(y_test, svm_prediction))\n",
    "print('Training accuracy:', model.score(X_train, y_train))\n",
    "print('Test accuracy:', model.score(X_test, y_test))"
   ]
  },
  {
   "cell_type": "code",
   "execution_count": 262,
   "metadata": {},
   "outputs": [
    {
     "name": "stdout",
     "output_type": "stream",
     "text": [
      "AUROC = 0.7878309147237882\n"
     ]
    }
   ],
   "source": [
    "auroc_svm = roc_auc_score(svm_prediction,y_test) \n",
    "print('AUROC =', auroc_svm)"
   ]
  },
  {
   "cell_type": "code",
   "execution_count": 292,
   "metadata": {},
   "outputs": [
    {
     "data": {
      "image/png": "[encoded data removed]",
      "text/plain": [
       "<Figure size 432x288 with 1 Axes>"
      ]
     },
     "metadata": {},
     "output_type": "display_data"
    }
   ],
   "source": [
    "fpr, tpr, thresholds = roc_curve(y_test, svm_prediction) \n",
    "plt.figure(figsize=(6,4))\n",
    "plt.plot(fpr, tpr, linewidth=2)\n",
    "plt.plot([0,1], [0,1], 'k--' )\n",
    "plt.rcParams['font.size'] = 12\n",
    "plt.title('ROC curve for Support Vector Machine (SVM)') \n",
    "plt.xlabel('False Positive Rate (1 - Specificity)') \n",
    "plt.ylabel('True Positive Rate (Sensitivity)') \n",
    "plt.show()"
   ]
  },
  {
   "cell_type": "markdown",
   "metadata": {},
   "source": [
    "K NEAREST NEIGHBORS (KNN)"
   ]
  },
  {
   "cell_type": "code",
   "execution_count": 293,
   "metadata": {},
   "outputs": [],
   "source": [
    "knn = KNeighborsClassifier(n_neighbors=2)"
   ]
  },
  {
   "cell_type": "code",
   "execution_count": 294,
   "metadata": {},
   "outputs": [
    {
     "data": {
      "text/plain": [
       "KNeighborsClassifier(n_neighbors=2)"
      ]
     },
     "execution_count": 294,
     "metadata": {},
     "output_type": "execute_result"
    }
   ],
   "source": [
    "knn.fit(X_train,y_train)"
   ]
  },
  {
   "cell_type": "code",
   "execution_count": 295,
   "metadata": {},
   "outputs": [],
   "source": [
    "knn_prediction = knn.predict(X_test)"
   ]
  },
  {
   "cell_type": "code",
   "execution_count": 296,
   "metadata": {},
   "outputs": [
    {
     "name": "stdout",
     "output_type": "stream",
     "text": [
      "              precision    recall  f1-score   support\n",
      "\n",
      "           0       0.26      0.39      0.31      1978\n",
      "           1       0.88      0.80      0.84     10783\n",
      "\n",
      "    accuracy                           0.74     12761\n",
      "   macro avg       0.57      0.59      0.58     12761\n",
      "weighted avg       0.78      0.74      0.76     12761\n",
      "\n",
      "[[ 768 1210]\n",
      " [2146 8637]]\n",
      "Training accuracy: 0.9070329817961981\n",
      "Test accuracy: 0.7370112060183371\n"
     ]
    }
   ],
   "source": [
    "print(classification_report(y_test, knn_prediction)) \n",
    "print(confusion_matrix(y_test, knn_prediction))\n",
    "print('Training accuracy:', knn.score(X_train, y_train))\n",
    "print('Test accuracy:', knn.score(X_test, y_test))"
   ]
  },
  {
   "cell_type": "code",
   "execution_count": 297,
   "metadata": {},
   "outputs": [
    {
     "name": "stdout",
     "output_type": "stream",
     "text": [
      "AUROC = 0.5703375927601709\n"
     ]
    }
   ],
   "source": [
    "auroc_knn = roc_auc_score(knn_prediction,y_test) \n",
    "print('AUROC =', auroc_knn)"
   ]
  },
  {
   "cell_type": "code",
   "execution_count": 298,
   "metadata": {},
   "outputs": [
    {
     "data": {
      "image/png": "[encoded data removed]",
      "text/plain": [
       "<Figure size 432x288 with 1 Axes>"
      ]
     },
     "metadata": {},
     "output_type": "display_data"
    }
   ],
   "source": [
    "fpr, tpr, thresholds = roc_curve(y_test, knn_prediction) \n",
    "plt.figure(figsize=(6,4))\n",
    "plt.plot(fpr, tpr, linewidth=2)\n",
    "plt.plot([0,1], [0,1], 'k--' )\n",
    "plt.rcParams['font.size'] = 12\n",
    "plt.title('ROC curve for K=2 Nearest Neighbors (KNN)') \n",
    "plt.xlabel('False Positive Rate (1 - Specificity)') \n",
    "plt.ylabel('True Positive Rate (Sensitivity)') \n",
    "plt.show()"
   ]
  },
  {
   "cell_type": "code",
   "execution_count": 299,
   "metadata": {},
   "outputs": [
    {
     "name": "stdout",
     "output_type": "stream",
     "text": [
      "n_neighbors= [0.7370112060183371]\n",
      "n_neighbors= [0.7370112060183371, 0.8294020844761383]\n",
      "n_neighbors= [0.7370112060183371, 0.8294020844761383, 0.8155316981427788]\n",
      "n_neighbors= [0.7370112060183371, 0.8294020844761383, 0.8155316981427788, 0.8413133766946164]\n",
      "n_neighbors= [0.7370112060183371, 0.8294020844761383, 0.8155316981427788, 0.8413133766946164, 0.836219731995925]\n",
      "n_neighbors= [0.7370112060183371, 0.8294020844761383, 0.8155316981427788, 0.8413133766946164, 0.836219731995925, 0.8453882924535695]\n",
      "n_neighbors= [0.7370112060183371, 0.8294020844761383, 0.8155316981427788, 0.8413133766946164, 0.836219731995925, 0.8453882924535695, 0.8423321056343547]\n",
      "n_neighbors= [0.7370112060183371, 0.8294020844761383, 0.8155316981427788, 0.8413133766946164, 0.836219731995925, 0.8453882924535695, 0.8423321056343547, 0.8465637489224982]\n",
      "n_neighbors= [0.7370112060183371, 0.8294020844761383, 0.8155316981427788, 0.8413133766946164, 0.836219731995925, 0.8453882924535695, 0.8423321056343547, 0.8465637489224982, 0.8464070213933077]\n"
     ]
    }
   ],
   "source": [
    "scores = []\n",
    "\n",
    "for k in range(2, 11):\n",
    "    knn = KNeighborsClassifier(n_neighbors=k) \n",
    "    knn.fit(X_train,y_train)\n",
    "    knn_prediction = knn.predict(X_test) \n",
    "    scores.append(accuracy_score(knn_prediction,y_test)) \n",
    "    print('n_neighbors=', scores)"
   ]
  },
  {
   "cell_type": "code",
   "execution_count": 301,
   "metadata": {},
   "outputs": [
    {
     "name": "stdout",
     "output_type": "stream",
     "text": [
      "[0.20703706606065356, 0.26298879398166286, 0.17059791552386178, 0.1844683018572212, 0.15868662330538358, 0.1637802680040749, 0.15461170754643053, 0.15766789436564532, 0.15343625107750175]\n"
     ]
    }
   ],
   "source": [
    "error_rate = []\n",
    "\n",
    "max_k = 10\n",
    "\n",
    "for k in range(1, max_k):\n",
    "    knn = KNeighborsClassifier(n_neighbors=k) \n",
    "    knn.fit(X_train,y_train)\n",
    "    knn_prediction = knn.predict(X_test) \n",
    "    error_rate.append(np.mean(knn_prediction != y_test))\n",
    "print(error_rate)"
   ]
  },
  {
   "cell_type": "code",
   "execution_count": 302,
   "metadata": {},
   "outputs": [
    {
     "data": {
      "text/plain": [
       "Text(0, 0.5, 'Error Rate')"
      ]
     },
     "execution_count": 302,
     "metadata": {},
     "output_type": "execute_result"
    },
    {
     "data": {
      "image/png": "[encoded data removed]",
      "text/plain": [
       "<Figure size 720x432 with 1 Axes>"
      ]
     },
     "metadata": {},
     "output_type": "display_data"
    }
   ],
   "source": [
    "plt.figure(figsize=(10,6))\n",
    "plt.plot(range(1, max_k), error_rate, color = 'blue') \n",
    "plt.title('Error Rate vs. K Value')\n",
    "plt.xlabel('K')\n",
    "plt.ylabel('Error Rate')"
   ]
  },
  {
   "cell_type": "code",
   "execution_count": 304,
   "metadata": {},
   "outputs": [],
   "source": [
    "knn1 = KNeighborsClassifier(7)"
   ]
  },
  {
   "cell_type": "code",
   "execution_count": 305,
   "metadata": {},
   "outputs": [
    {
     "data": {
      "text/plain": [
       "KNeighborsClassifier(n_neighbors=7)"
      ]
     },
     "execution_count": 305,
     "metadata": {},
     "output_type": "execute_result"
    }
   ],
   "source": [
    "knn1.fit(X_train,y_train)"
   ]
  },
  {
   "cell_type": "code",
   "execution_count": 306,
   "metadata": {},
   "outputs": [],
   "source": [
    "knn1_prediction = knn.predict(X_test)"
   ]
  },
  {
   "cell_type": "code",
   "execution_count": 307,
   "metadata": {},
   "outputs": [
    {
     "name": "stdout",
     "output_type": "stream",
     "text": [
      "              precision    recall  f1-score   support\n",
      "\n",
      "           0       0.55      0.06      0.11      1978\n",
      "           1       0.85      0.99      0.92     10783\n",
      "\n",
      "    accuracy                           0.85     12761\n",
      "   macro avg       0.70      0.52      0.51     12761\n",
      "weighted avg       0.80      0.85      0.79     12761\n",
      "\n",
      "[[  115  1863]\n",
      " [   95 10688]]\n",
      "Training accuracy: 0.8647813528581985\n",
      "Test accuracy: 0.8453882924535695\n"
     ]
    }
   ],
   "source": [
    "print(classification_report(y_test, knn1_prediction)) \n",
    "print(confusion_matrix(y_test, knn1_prediction))\n",
    "print('Training accuracy:', knn1.score(X_train, y_train))\n",
    "print('Test accuracy:', knn1.score(X_test, y_test))"
   ]
  },
  {
   "cell_type": "code",
   "execution_count": 308,
   "metadata": {},
   "outputs": [
    {
     "name": "stdout",
     "output_type": "stream",
     "text": [
      "AUROC = 0.6995923299604282\n"
     ]
    }
   ],
   "source": [
    "auroc_knn1 = roc_auc_score(knn1_prediction,y_test) \n",
    "print('AUROC =', auroc_knn1)"
   ]
  },
  {
   "cell_type": "code",
   "execution_count": 309,
   "metadata": {},
   "outputs": [
    {
     "data": {
      "image/png": "[encoded data removed]",
      "text/plain": [
       "<Figure size 432x288 with 1 Axes>"
      ]
     },
     "metadata": {},
     "output_type": "display_data"
    }
   ],
   "source": [
    "fpr, tpr, thresholds = roc_curve(y_test, knn1_prediction) \n",
    "plt.figure(figsize=(6,4))\n",
    "plt.plot(fpr, tpr, linewidth=2)\n",
    "plt.plot([0,1], [0,1], 'k--' )\n",
    "plt.rcParams['font.size'] = 12\n",
    "plt.title('ROC curve for K=7 Nearest Neighbors (KNN)') \n",
    "plt.xlabel('False Positive Rate (1 - Specificity)') \n",
    "plt.ylabel('True Positive Rate (Sensitivity)') \n",
    "plt.show()"
   ]
  },
  {
   "cell_type": "markdown",
   "metadata": {},
   "source": [
    "BAGGING CLASSIFIER"
   ]
  },
  {
   "cell_type": "code",
   "execution_count": 311,
   "metadata": {},
   "outputs": [],
   "source": [
    "xgbc = BaggingClassifier(tree.DecisionTreeClassifier(random_state=1))"
   ]
  },
  {
   "cell_type": "code",
   "execution_count": 312,
   "metadata": {},
   "outputs": [
    {
     "data": {
      "text/plain": [
       "BaggingClassifier(base_estimator=DecisionTreeClassifier(random_state=1))"
      ]
     },
     "execution_count": 312,
     "metadata": {},
     "output_type": "execute_result"
    }
   ],
   "source": [
    "xgbc.fit(X_train,y_train)"
   ]
  },
  {
   "cell_type": "code",
   "execution_count": 313,
   "metadata": {},
   "outputs": [],
   "source": [
    "xgbc_prediction = xgbc.predict(X_test)"
   ]
  },
  {
   "cell_type": "code",
   "execution_count": 314,
   "metadata": {
    "scrolled": true
   },
   "outputs": [
    {
     "name": "stdout",
     "output_type": "stream",
     "text": [
      "              precision    recall  f1-score   support\n",
      "\n",
      "           0       0.52      0.42      0.47      1978\n",
      "           1       0.90      0.93      0.91     10783\n",
      "\n",
      "    accuracy                           0.85     12761\n",
      "   macro avg       0.71      0.68      0.69     12761\n",
      "weighted avg       0.84      0.85      0.84     12761\n",
      "\n",
      "[[  833  1145]\n",
      " [  759 10024]]\n",
      "Training accuracy: 0.9943910794653052\n",
      "Test accuracy: 0.8507953922106418\n"
     ]
    }
   ],
   "source": [
    "print(classification_report(y_test, xgbc_prediction)) \n",
    "print(confusion_matrix(y_test, xgbc_prediction))\n",
    "print('Training accuracy:', xgbc.score(X_train, y_train))\n",
    "print('Test accuracy:', xgbc.score(X_test, y_test))"
   ]
  },
  {
   "cell_type": "code",
   "execution_count": 315,
   "metadata": {},
   "outputs": [
    {
     "name": "stdout",
     "output_type": "stream",
     "text": [
      "AUROC = 0.7103626569142607\n"
     ]
    }
   ],
   "source": [
    "auroc_xgbc = roc_auc_score(xgbc_prediction,y_test) \n",
    "print('AUROC =', auroc_xgbc)"
   ]
  },
  {
   "cell_type": "code",
   "execution_count": 316,
   "metadata": {},
   "outputs": [
    {
     "data": {
      "image/png": "[encoded data removed]",
      "text/plain": [
       "<Figure size 432x288 with 1 Axes>"
      ]
     },
     "metadata": {},
     "output_type": "display_data"
    }
   ],
   "source": [
    "fpr, tpr, thresholds = roc_curve(y_test, xgbc_prediction) \n",
    "plt.figure(figsize=(6,4))\n",
    "plt.plot(fpr, tpr, linewidth=2)\n",
    "plt.plot([0,1], [0,1], 'k--' )\n",
    "plt.rcParams['font.size'] = 12\n",
    "plt.title('ROC curve for Bagging Classifier') \n",
    "plt.xlabel('False Positive Rate (1 - Specificity)') \n",
    "plt.ylabel('True Positive Rate (Sensitivity)') \n",
    "plt.show()"
   ]
  },
  {
   "cell_type": "markdown",
   "metadata": {},
   "source": [
    "GRADIENT BOOSTING CLASSIFIER"
   ]
  },
  {
   "cell_type": "code",
   "execution_count": 317,
   "metadata": {},
   "outputs": [],
   "source": [
    "gbc= GradientBoostingClassifier(learning_rate=0.01, random_state=1)"
   ]
  },
  {
   "cell_type": "code",
   "execution_count": 318,
   "metadata": {},
   "outputs": [
    {
     "data": {
      "text/plain": [
       "GradientBoostingClassifier(learning_rate=0.01, random_state=1)"
      ]
     },
     "execution_count": 318,
     "metadata": {},
     "output_type": "execute_result"
    }
   ],
   "source": [
    "gbc.fit(X_train, y_train)"
   ]
  },
  {
   "cell_type": "code",
   "execution_count": 319,
   "metadata": {},
   "outputs": [],
   "source": [
    "gbc_prediction = gbc.predict(X_test)"
   ]
  },
  {
   "cell_type": "code",
   "execution_count": 320,
   "metadata": {},
   "outputs": [
    {
     "name": "stdout",
     "output_type": "stream",
     "text": [
      "              precision    recall  f1-score   support\n",
      "\n",
      "           0       0.81      0.06      0.10      1978\n",
      "           1       0.85      1.00      0.92     10783\n",
      "\n",
      "    accuracy                           0.85     12761\n",
      "   macro avg       0.83      0.53      0.51     12761\n",
      "weighted avg       0.85      0.85      0.79     12761\n",
      "\n",
      "[[  110  1868]\n",
      " [   26 10757]]\n",
      "Training accuracy: 0.8575602874991604\n",
      "Test accuracy: 0.8515790298565943\n"
     ]
    }
   ],
   "source": [
    "print(classification_report(y_test, gbc_prediction)) \n",
    "print(confusion_matrix(y_test, gbc_prediction))\n",
    "print('Training accuracy:', gbc.score(X_train, y_train))\n",
    "print('Test accuracy:', gbc.score(X_test, y_test))"
   ]
  },
  {
   "cell_type": "code",
   "execution_count": 321,
   "metadata": {},
   "outputs": [
    {
     "name": "stdout",
     "output_type": "stream",
     "text": [
      "AUROC = 0.8304315666860803\n"
     ]
    }
   ],
   "source": [
    "auroc_gbc = roc_auc_score(gbc_prediction,y_test) \n",
    "print('AUROC =', auroc_gbc)"
   ]
  },
  {
   "cell_type": "code",
   "execution_count": 322,
   "metadata": {},
   "outputs": [
    {
     "data": {
      "image/png": "[encoded data removed]",
      "text/plain": [
       "<Figure size 432x288 with 1 Axes>"
      ]
     },
     "metadata": {},
     "output_type": "display_data"
    }
   ],
   "source": [
    "fpr, tpr, thresholds = roc_curve(y_test, gbc_prediction) \n",
    "plt.figure(figsize=(6,4))\n",
    "plt.plot(fpr, tpr, linewidth=2)\n",
    "plt.plot([0,1], [0,1], 'k--' )\n",
    "plt.rcParams['font.size'] = 12\n",
    "plt.title('ROC curve for GradientBoosting Classifier') \n",
    "plt.xlabel('False Positive Rate (1 - Specificity)') \n",
    "plt.ylabel('True Positive Rate (Sensitivity)') \n",
    "plt.show()"
   ]
  },
  {
   "cell_type": "markdown",
   "metadata": {},
   "source": [
    "PORÓWNANIE WYNIKÓW NA ZBIORZE DUMMIES"
   ]
  },
  {
   "cell_type": "code",
   "execution_count": 394,
   "metadata": {},
   "outputs": [
    {
     "data": {
      "text/html": [
       "<div>\n",
       "<style scoped>\n",
       "    .dataframe tbody tr th:only-of-type {\n",
       "        vertical-align: middle;\n",
       "    }\n",
       "\n",
       "    .dataframe tbody tr th {\n",
       "        vertical-align: top;\n",
       "    }\n",
       "\n",
       "    .dataframe thead th {\n",
       "        text-align: right;\n",
       "    }\n",
       "</style>\n",
       "<table border=\"1\" class=\"dataframe\">\n",
       "  <thead>\n",
       "    <tr style=\"text-align: right;\">\n",
       "      <th></th>\n",
       "      <th>Method</th>\n",
       "      <th>AUROC</th>\n",
       "    </tr>\n",
       "  </thead>\n",
       "  <tbody>\n",
       "    <tr>\n",
       "      <th>9</th>\n",
       "      <td>Gradient Boosting Classifier</td>\n",
       "      <td>0.830432</td>\n",
       "    </tr>\n",
       "    <tr>\n",
       "      <th>4</th>\n",
       "      <td>Random Forrest Param</td>\n",
       "      <td>0.809931</td>\n",
       "    </tr>\n",
       "    <tr>\n",
       "      <th>5</th>\n",
       "      <td>SVM</td>\n",
       "      <td>0.787831</td>\n",
       "    </tr>\n",
       "    <tr>\n",
       "      <th>0</th>\n",
       "      <td>Logistic Regression</td>\n",
       "      <td>0.772356</td>\n",
       "    </tr>\n",
       "    <tr>\n",
       "      <th>3</th>\n",
       "      <td>Random Forrest</td>\n",
       "      <td>0.765548</td>\n",
       "    </tr>\n",
       "    <tr>\n",
       "      <th>8</th>\n",
       "      <td>Boosting Classifier</td>\n",
       "      <td>0.710363</td>\n",
       "    </tr>\n",
       "    <tr>\n",
       "      <th>7</th>\n",
       "      <td>KNN Param</td>\n",
       "      <td>0.699592</td>\n",
       "    </tr>\n",
       "    <tr>\n",
       "      <th>2</th>\n",
       "      <td>Decision Tree Param</td>\n",
       "      <td>0.666545</td>\n",
       "    </tr>\n",
       "    <tr>\n",
       "      <th>1</th>\n",
       "      <td>Decision Tree</td>\n",
       "      <td>0.634855</td>\n",
       "    </tr>\n",
       "    <tr>\n",
       "      <th>6</th>\n",
       "      <td>KNN</td>\n",
       "      <td>0.570338</td>\n",
       "    </tr>\n",
       "  </tbody>\n",
       "</table>\n",
       "</div>"
      ],
      "text/plain": [
       "                         Method     AUROC\n",
       "9  Gradient Boosting Classifier  0.830432\n",
       "4          Random Forrest Param  0.809931\n",
       "5                           SVM  0.787831\n",
       "0           Logistic Regression  0.772356\n",
       "3                Random Forrest  0.765548\n",
       "8           Boosting Classifier  0.710363\n",
       "7                     KNN Param  0.699592\n",
       "2           Decision Tree Param  0.666545\n",
       "1                 Decision Tree  0.634855\n",
       "6                           KNN  0.570338"
      ]
     },
     "execution_count": 394,
     "metadata": {},
     "output_type": "execute_result"
    }
   ],
   "source": [
    "results = pd.DataFrame({'Method':['Logistic Regression', 'Decision Tree', 'Decision Tree Param', 'Random Forrest', \n",
    "                                  'Random Forrest Param', 'SVM', 'KNN', 'KNN Param', 'Boosting Classifier', 'Gradient Boosting Classifier'],  \n",
    "                        'AUROC': [auroc_log, auroc_dt, auroc_dt1, auroc_rf, auroc_rf1, auroc_svm, auroc_knn, auroc_knn1, auroc_xgbc, auroc_gbc]})\n",
    "\n",
    "                          \n",
    "results.sort_values(by = 'AUROC', ascending = False)"
   ]
  },
  {
   "cell_type": "markdown",
   "metadata": {},
   "source": [
    "MODELOWANIE NA ZBIORZE MAŁYM"
   ]
  },
  {
   "cell_type": "code",
   "execution_count": 398,
   "metadata": {},
   "outputs": [
    {
     "data": {
      "text/html": [
       "<div>\n",
       "<style scoped>\n",
       "    .dataframe tbody tr th:only-of-type {\n",
       "        vertical-align: middle;\n",
       "    }\n",
       "\n",
       "    .dataframe tbody tr th {\n",
       "        vertical-align: top;\n",
       "    }\n",
       "\n",
       "    .dataframe thead th {\n",
       "        text-align: right;\n",
       "    }\n",
       "</style>\n",
       "<table border=\"1\" class=\"dataframe\">\n",
       "  <thead>\n",
       "    <tr style=\"text-align: right;\">\n",
       "      <th></th>\n",
       "      <th>annual_inc</th>\n",
       "      <th>installment</th>\n",
       "      <th>int_rate</th>\n",
       "      <th>fico_avg</th>\n",
       "      <th>last_fico_avg</th>\n",
       "      <th>loan_amnt</th>\n",
       "      <th>revol_bal</th>\n",
       "      <th>open_acc</th>\n",
       "      <th>total_acc</th>\n",
       "      <th>loan_status</th>\n",
       "    </tr>\n",
       "  </thead>\n",
       "  <tbody>\n",
       "    <tr>\n",
       "      <th>0</th>\n",
       "      <td>24000.0</td>\n",
       "      <td>162.87</td>\n",
       "      <td>10.65</td>\n",
       "      <td>737.0</td>\n",
       "      <td>737.0</td>\n",
       "      <td>5000.0</td>\n",
       "      <td>13648.0</td>\n",
       "      <td>3.0</td>\n",
       "      <td>9.0</td>\n",
       "      <td>1</td>\n",
       "    </tr>\n",
       "    <tr>\n",
       "      <th>1</th>\n",
       "      <td>30000.0</td>\n",
       "      <td>59.83</td>\n",
       "      <td>15.27</td>\n",
       "      <td>742.0</td>\n",
       "      <td>249.5</td>\n",
       "      <td>2500.0</td>\n",
       "      <td>1687.0</td>\n",
       "      <td>3.0</td>\n",
       "      <td>4.0</td>\n",
       "      <td>0</td>\n",
       "    </tr>\n",
       "    <tr>\n",
       "      <th>2</th>\n",
       "      <td>12252.0</td>\n",
       "      <td>84.33</td>\n",
       "      <td>15.96</td>\n",
       "      <td>737.0</td>\n",
       "      <td>737.0</td>\n",
       "      <td>2400.0</td>\n",
       "      <td>2956.0</td>\n",
       "      <td>2.0</td>\n",
       "      <td>10.0</td>\n",
       "      <td>1</td>\n",
       "    </tr>\n",
       "    <tr>\n",
       "      <th>3</th>\n",
       "      <td>49200.0</td>\n",
       "      <td>339.31</td>\n",
       "      <td>13.49</td>\n",
       "      <td>692.0</td>\n",
       "      <td>602.0</td>\n",
       "      <td>10000.0</td>\n",
       "      <td>5598.0</td>\n",
       "      <td>10.0</td>\n",
       "      <td>37.0</td>\n",
       "      <td>1</td>\n",
       "    </tr>\n",
       "    <tr>\n",
       "      <th>4</th>\n",
       "      <td>80000.0</td>\n",
       "      <td>67.79</td>\n",
       "      <td>12.69</td>\n",
       "      <td>697.0</td>\n",
       "      <td>682.0</td>\n",
       "      <td>3000.0</td>\n",
       "      <td>27783.0</td>\n",
       "      <td>15.0</td>\n",
       "      <td>38.0</td>\n",
       "      <td>1</td>\n",
       "    </tr>\n",
       "    <tr>\n",
       "      <th>...</th>\n",
       "      <td>...</td>\n",
       "      <td>...</td>\n",
       "      <td>...</td>\n",
       "      <td>...</td>\n",
       "      <td>...</td>\n",
       "      <td>...</td>\n",
       "      <td>...</td>\n",
       "      <td>...</td>\n",
       "      <td>...</td>\n",
       "      <td>...</td>\n",
       "    </tr>\n",
       "    <tr>\n",
       "      <th>42530</th>\n",
       "      <td>180000.0</td>\n",
       "      <td>113.39</td>\n",
       "      <td>10.28</td>\n",
       "      <td>687.0</td>\n",
       "      <td>817.0</td>\n",
       "      <td>3500.0</td>\n",
       "      <td>0.0</td>\n",
       "      <td>33.0</td>\n",
       "      <td>20.0</td>\n",
       "      <td>1</td>\n",
       "    </tr>\n",
       "    <tr>\n",
       "      <th>42531</th>\n",
       "      <td>12000.0</td>\n",
       "      <td>32.11</td>\n",
       "      <td>9.64</td>\n",
       "      <td>697.0</td>\n",
       "      <td>782.0</td>\n",
       "      <td>1000.0</td>\n",
       "      <td>0.0</td>\n",
       "      <td>33.0</td>\n",
       "      <td>20.0</td>\n",
       "      <td>1</td>\n",
       "    </tr>\n",
       "    <tr>\n",
       "      <th>42532</th>\n",
       "      <td>110000.0</td>\n",
       "      <td>80.69</td>\n",
       "      <td>9.33</td>\n",
       "      <td>712.0</td>\n",
       "      <td>712.0</td>\n",
       "      <td>2525.0</td>\n",
       "      <td>0.0</td>\n",
       "      <td>33.0</td>\n",
       "      <td>20.0</td>\n",
       "      <td>1</td>\n",
       "    </tr>\n",
       "    <tr>\n",
       "      <th>42533</th>\n",
       "      <td>60000.0</td>\n",
       "      <td>204.84</td>\n",
       "      <td>8.38</td>\n",
       "      <td>742.0</td>\n",
       "      <td>722.0</td>\n",
       "      <td>6500.0</td>\n",
       "      <td>0.0</td>\n",
       "      <td>33.0</td>\n",
       "      <td>20.0</td>\n",
       "      <td>1</td>\n",
       "    </tr>\n",
       "    <tr>\n",
       "      <th>42534</th>\n",
       "      <td>70000.0</td>\n",
       "      <td>156.11</td>\n",
       "      <td>7.75</td>\n",
       "      <td>772.0</td>\n",
       "      <td>792.0</td>\n",
       "      <td>5000.0</td>\n",
       "      <td>0.0</td>\n",
       "      <td>33.0</td>\n",
       "      <td>20.0</td>\n",
       "      <td>1</td>\n",
       "    </tr>\n",
       "  </tbody>\n",
       "</table>\n",
       "<p>42535 rows × 10 columns</p>\n",
       "</div>"
      ],
      "text/plain": [
       "       annual_inc  installment  int_rate  fico_avg  last_fico_avg  loan_amnt  \\\n",
       "0         24000.0       162.87     10.65     737.0          737.0     5000.0   \n",
       "1         30000.0        59.83     15.27     742.0          249.5     2500.0   \n",
       "2         12252.0        84.33     15.96     737.0          737.0     2400.0   \n",
       "3         49200.0       339.31     13.49     692.0          602.0    10000.0   \n",
       "4         80000.0        67.79     12.69     697.0          682.0     3000.0   \n",
       "...           ...          ...       ...       ...            ...        ...   \n",
       "42530    180000.0       113.39     10.28     687.0          817.0     3500.0   \n",
       "42531     12000.0        32.11      9.64     697.0          782.0     1000.0   \n",
       "42532    110000.0        80.69      9.33     712.0          712.0     2525.0   \n",
       "42533     60000.0       204.84      8.38     742.0          722.0     6500.0   \n",
       "42534     70000.0       156.11      7.75     772.0          792.0     5000.0   \n",
       "\n",
       "       revol_bal  open_acc  total_acc  loan_status  \n",
       "0        13648.0       3.0        9.0            1  \n",
       "1         1687.0       3.0        4.0            0  \n",
       "2         2956.0       2.0       10.0            1  \n",
       "3         5598.0      10.0       37.0            1  \n",
       "4        27783.0      15.0       38.0            1  \n",
       "...          ...       ...        ...          ...  \n",
       "42530        0.0      33.0       20.0            1  \n",
       "42531        0.0      33.0       20.0            1  \n",
       "42532        0.0      33.0       20.0            1  \n",
       "42533        0.0      33.0       20.0            1  \n",
       "42534        0.0      33.0       20.0            1  \n",
       "\n",
       "[42535 rows x 10 columns]"
      ]
     },
     "execution_count": 398,
     "metadata": {},
     "output_type": "execute_result"
    }
   ],
   "source": [
    "df1 = pd.read_csv('df1.csv') \n",
    "df1.drop('Unnamed: 0', axis=1, inplace=True) \n",
    "df1"
   ]
  },
  {
   "cell_type": "markdown",
   "metadata": {},
   "source": [
    "PRZYGOTOWANIE ZBIORÓW"
   ]
  },
  {
   "cell_type": "code",
   "execution_count": 399,
   "metadata": {},
   "outputs": [],
   "source": [
    "X1 = df1.drop('loan_status', axis=1)\n",
    "Y1 = df1['loan_status']\n",
    "\n",
    "X1_train, X1_test, y1_train, y1_test = train_test_split(X1, Y1, test_size = 0.3, random_state = 0)"
   ]
  },
  {
   "cell_type": "markdown",
   "metadata": {},
   "source": [
    "SKALOWANIE"
   ]
  },
  {
   "cell_type": "code",
   "execution_count": 400,
   "metadata": {},
   "outputs": [],
   "source": [
    "sc = StandardScaler()\n",
    "X1_train = sc.fit_transform(X1_train) \n",
    "X1_test = sc.transform(X1_test)"
   ]
  },
  {
   "cell_type": "markdown",
   "metadata": {},
   "source": [
    "GRADIENT BOOSTING CLASSIFIER"
   ]
  },
  {
   "cell_type": "code",
   "execution_count": 401,
   "metadata": {},
   "outputs": [],
   "source": [
    "gbc= GradientBoostingClassifier(learning_rate=0.01, random_state=1)"
   ]
  },
  {
   "cell_type": "code",
   "execution_count": 402,
   "metadata": {},
   "outputs": [
    {
     "data": {
      "text/plain": [
       "GradientBoostingClassifier(learning_rate=0.01, random_state=1)"
      ]
     },
     "execution_count": 402,
     "metadata": {},
     "output_type": "execute_result"
    }
   ],
   "source": [
    "gbc.fit(X1_train, y1_train)"
   ]
  },
  {
   "cell_type": "code",
   "execution_count": 403,
   "metadata": {},
   "outputs": [],
   "source": [
    "gbc_prediction = gbc.predict(X1_test)"
   ]
  },
  {
   "cell_type": "code",
   "execution_count": 404,
   "metadata": {},
   "outputs": [
    {
     "name": "stdout",
     "output_type": "stream",
     "text": [
      "              precision    recall  f1-score   support\n",
      "\n",
      "           0       0.82      0.03      0.05      1978\n",
      "           1       0.85      1.00      0.92     10783\n",
      "\n",
      "    accuracy                           0.85     12761\n",
      "   macro avg       0.83      0.51      0.49     12761\n",
      "weighted avg       0.84      0.85      0.78     12761\n",
      "\n",
      "[[   54  1924]\n",
      " [   12 10771]]\n",
      "Training accuracy: 0.8533619936857662\n",
      "Test accuracy: 0.8482877517435937\n"
     ]
    }
   ],
   "source": [
    "print(classification_report(y1_test, gbc_prediction)) \n",
    "print(confusion_matrix(y1_test, gbc_prediction))\n",
    "print('Training accuracy:', gbc.score(X1_train, y_train))\n",
    "print('Test accuracy:', gbc.score(X1_test, y_test))"
   ]
  },
  {
   "cell_type": "code",
   "execution_count": 405,
   "metadata": {},
   "outputs": [
    {
     "name": "stdout",
     "output_type": "stream",
     "text": [
      "AUROC = 0.8333130437896094\n"
     ]
    }
   ],
   "source": [
    "auroc_gbc = roc_auc_score(gbc_prediction,y1_test) \n",
    "print('AUROC =', auroc_gbc)"
   ]
  },
  {
   "cell_type": "markdown",
   "metadata": {},
   "source": [
    "RANDOM ROREST"
   ]
  },
  {
   "cell_type": "code",
   "execution_count": 406,
   "metadata": {},
   "outputs": [],
   "source": [
    "rf = RandomForestClassifier(n_estimators=100, random_state=0)"
   ]
  },
  {
   "cell_type": "code",
   "execution_count": 408,
   "metadata": {},
   "outputs": [
    {
     "data": {
      "text/plain": [
       "RandomForestClassifier(random_state=0)"
      ]
     },
     "execution_count": 408,
     "metadata": {},
     "output_type": "execute_result"
    }
   ],
   "source": [
    "rf.fit(X1_train, y1_train)"
   ]
  },
  {
   "cell_type": "code",
   "execution_count": 409,
   "metadata": {},
   "outputs": [],
   "source": [
    "rf_prediction = rf.predict(X1_test)"
   ]
  },
  {
   "cell_type": "code",
   "execution_count": 415,
   "metadata": {},
   "outputs": [
    {
     "name": "stdout",
     "output_type": "stream",
     "text": [
      "              precision    recall  f1-score   support\n",
      "\n",
      "           0       0.59      0.31      0.41      1978\n",
      "           1       0.88      0.96      0.92     10783\n",
      "\n",
      "    accuracy                           0.86     12761\n",
      "   macro avg       0.74      0.64      0.66     12761\n",
      "weighted avg       0.84      0.86      0.84     12761\n",
      "\n",
      "[[  614  1364]\n",
      " [  425 10358]]\n",
      "Training accuracy: 1.0\n",
      "Test accuracy: 0.8598072251390957\n"
     ]
    }
   ],
   "source": [
    "print(classification_report(y1_test, rf_prediction)) \n",
    "print(confusion_matrix(y1_test, rf_prediction))\n",
    "print('Training accuracy:', rf.score(X1_train, y1_train))\n",
    "print('Test accuracy:', rf.score(X1_test, y1_test))"
   ]
  },
  {
   "cell_type": "code",
   "execution_count": 416,
   "metadata": {},
   "outputs": [
    {
     "name": "stdout",
     "output_type": "stream",
     "text": [
      "AUROC = 0.7372952218864391\n"
     ]
    }
   ],
   "source": [
    "auroc_rf = roc_auc_score(rf_prediction,y1_test) \n",
    "print('AUROC =', auroc_rf)"
   ]
  },
  {
   "cell_type": "markdown",
   "metadata": {},
   "source": [
    "RANDOM FOREST Z PARAMETRAMI"
   ]
  },
  {
   "cell_type": "code",
   "execution_count": 412,
   "metadata": {},
   "outputs": [],
   "source": [
    "rf1 = RandomForestClassifier(n_estimators=100, max_depth=10, min_samples_split=10, min_samples_leaf=2, max_features='auto', bootstrap=True)"
   ]
  },
  {
   "cell_type": "code",
   "execution_count": 413,
   "metadata": {},
   "outputs": [
    {
     "data": {
      "text/plain": [
       "RandomForestClassifier(max_depth=10, min_samples_leaf=2, min_samples_split=10)"
      ]
     },
     "execution_count": 413,
     "metadata": {},
     "output_type": "execute_result"
    }
   ],
   "source": [
    "rf1.fit(X1_train, y1_train)"
   ]
  },
  {
   "cell_type": "code",
   "execution_count": 414,
   "metadata": {},
   "outputs": [],
   "source": [
    "rf1_prediction = rf1.predict(X1_test)"
   ]
  },
  {
   "cell_type": "code",
   "execution_count": 417,
   "metadata": {},
   "outputs": [
    {
     "name": "stdout",
     "output_type": "stream",
     "text": [
      "              precision    recall  f1-score   support\n",
      "\n",
      "           0       0.65      0.25      0.36      1978\n",
      "           1       0.88      0.98      0.92     10783\n",
      "\n",
      "    accuracy                           0.86     12761\n",
      "   macro avg       0.76      0.61      0.64     12761\n",
      "weighted avg       0.84      0.86      0.84     12761\n",
      "\n",
      "[[  496  1482]\n",
      " [  268 10515]]\n",
      "Training accuracy: 0.8922885739235574\n",
      "Test accuracy: 0.8628634119583105\n"
     ]
    }
   ],
   "source": [
    "print(classification_report(y1_test, rf1_prediction)) \n",
    "print(confusion_matrix(y1_test, rf1_prediction))\n",
    "print('Training accuracy:', rf1.score(X1_train, y1_train))\n",
    "print('Test accuracy:', rf1.score(X1_test, y1_test))"
   ]
  },
  {
   "cell_type": "code",
   "execution_count": 418,
   "metadata": {},
   "outputs": [
    {
     "name": "stdout",
     "output_type": "stream",
     "text": [
      "AUROC = 0.7628418884825918\n"
     ]
    }
   ],
   "source": [
    "auroc_rf1 = roc_auc_score(rf1_prediction,y1_test) \n",
    "print('AUROC =', auroc_rf1)"
   ]
  },
  {
   "cell_type": "markdown",
   "metadata": {},
   "source": [
    "SVM"
   ]
  },
  {
   "cell_type": "code",
   "execution_count": 419,
   "metadata": {},
   "outputs": [],
   "source": [
    "sv = SVC()"
   ]
  },
  {
   "cell_type": "code",
   "execution_count": 420,
   "metadata": {},
   "outputs": [
    {
     "data": {
      "text/plain": [
       "SVC()"
      ]
     },
     "execution_count": 420,
     "metadata": {},
     "output_type": "execute_result"
    }
   ],
   "source": [
    "sv.fit(X1_train, y1_train)"
   ]
  },
  {
   "cell_type": "code",
   "execution_count": 421,
   "metadata": {},
   "outputs": [],
   "source": [
    "sv_prediction = sv.predict(X1_test)"
   ]
  },
  {
   "cell_type": "code",
   "execution_count": 422,
   "metadata": {},
   "outputs": [
    {
     "name": "stdout",
     "output_type": "stream",
     "text": [
      "              precision    recall  f1-score   support\n",
      "\n",
      "           0       0.67      0.17      0.27      1978\n",
      "           1       0.87      0.98      0.92     10783\n",
      "\n",
      "    accuracy                           0.86     12761\n",
      "   macro avg       0.77      0.58      0.60     12761\n",
      "weighted avg       0.84      0.86      0.82     12761\n",
      "\n",
      "[[  337  1641]\n",
      " [  166 10617]]\n",
      "Training accuracy: 0.8653859071673272\n",
      "Test accuracy: 0.8583966773763811\n"
     ]
    }
   ],
   "source": [
    "print(classification_report(y1_test, sv_prediction)) \n",
    "print(confusion_matrix(y1_test, sv_prediction))\n",
    "print('Training accuracy:', sv.score(X1_train, y1_train))\n",
    "print('Test accuracy:', sv.score(X1_test, y1_test))"
   ]
  },
  {
   "cell_type": "code",
   "execution_count": 423,
   "metadata": {},
   "outputs": [
    {
     "name": "stdout",
     "output_type": "stream",
     "text": [
      "AUROC = 0.7680541810322596\n"
     ]
    }
   ],
   "source": [
    "auroc_sv = roc_auc_score(sv_prediction,y1_test) \n",
    "print('AUROC =', auroc_sv)"
   ]
  },
  {
   "cell_type": "markdown",
   "metadata": {},
   "source": [
    "REGRESJA LOGISTYCZNA"
   ]
  },
  {
   "cell_type": "code",
   "execution_count": 452,
   "metadata": {},
   "outputs": [],
   "source": [
    "log = LogisticRegression()"
   ]
  },
  {
   "cell_type": "code",
   "execution_count": 453,
   "metadata": {},
   "outputs": [
    {
     "data": {
      "text/plain": [
       "LogisticRegression()"
      ]
     },
     "execution_count": 453,
     "metadata": {},
     "output_type": "execute_result"
    }
   ],
   "source": [
    "log.fit(X1_train, y1_train)"
   ]
  },
  {
   "cell_type": "code",
   "execution_count": 454,
   "metadata": {},
   "outputs": [],
   "source": [
    "log_prediction = log.predict(X1_test)"
   ]
  },
  {
   "cell_type": "code",
   "execution_count": 455,
   "metadata": {},
   "outputs": [
    {
     "name": "stdout",
     "output_type": "stream",
     "text": [
      "              precision    recall  f1-score   support\n",
      "\n",
      "           0       0.65      0.19      0.29      1978\n",
      "           1       0.87      0.98      0.92     10783\n",
      "\n",
      "    accuracy                           0.86     12761\n",
      "   macro avg       0.76      0.58      0.61     12761\n",
      "weighted avg       0.83      0.86      0.82     12761\n",
      "\n",
      "[[  372  1606]\n",
      " [  200 10583]]\n",
      "Training accuracy: 0.862934103580305\n",
      "Test accuracy: 0.8584750411409764\n"
     ]
    }
   ],
   "source": [
    "print(classification_report(y1_test, log_prediction)) \n",
    "print(confusion_matrix(y1_test, log_prediction))\n",
    "print('Training accuracy:', log.score(X1_train, y1_train))\n",
    "print('Test accuracy:', log.score(X1_test, y1_test))"
   ]
  },
  {
   "cell_type": "code",
   "execution_count": 456,
   "metadata": {},
   "outputs": [
    {
     "name": "stdout",
     "output_type": "stream",
     "text": [
      "AUROC = 0.7592957538810357\n"
     ]
    }
   ],
   "source": [
    "auroc_log = roc_auc_score(log_prediction,y1_test) \n",
    "print('AUROC =', auroc_log)"
   ]
  },
  {
   "cell_type": "markdown",
   "metadata": {},
   "source": [
    "Najlepsze wyniki są na modelu Gradient Boosting Classifier:"
   ]
  },
  {
   "cell_type": "markdown",
   "metadata": {},
   "source": [
    "83.3% na małym zbiorze"
   ]
  },
  {
   "cell_type": "markdown",
   "metadata": {},
   "source": [
    "83% na dużym zbiorze"
   ]
  },
  {
   "cell_type": "code",
   "execution_count": null,
   "metadata": {},
   "outputs": [],
   "source": []
  }
 ],
 "metadata": {
  "kernelspec": {
   "display_name": "Python 3",
   "language": "python",
   "name": "python3"
  },
  "language_info": {
   "codemirror_mode": {
    "name": "ipython",
    "version": 3
   },
   "file_extension": ".py",
   "mimetype": "text/x-python",
   "name": "python",
   "nbconvert_exporter": "python",
   "pygments_lexer": "ipython3",
   "version": "3.8.5"
  }
 },
 "nbformat": 4,
 "nbformat_minor": 4
}
